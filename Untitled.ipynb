{
 "cells": [
  {
   "cell_type": "code",
   "execution_count": 1,
   "metadata": {},
   "outputs": [],
   "source": [
    "import mygene"
   ]
  },
  {
   "cell_type": "code",
   "execution_count": 4,
   "metadata": {},
   "outputs": [],
   "source": [
    "def find_id(query):\n",
    "    gene_id = 'empty'\n",
    "    \n",
    "    if len(query['hits']) == 0: # are there no hits at all?\n",
    "        pass\n",
    "    else:\n",
    "        for hit in query['hits']: # does the id actually start with AT?\n",
    "            if hit['_id'][0:2] == 'AT' and len(hit['_id']) == 9:\n",
    "                gene_id = hit['_id']\n",
    "                break\n",
    "      \n",
    "    return gene_id\n",
    "\n",
    "\n",
    "def get_gene_id(gene_symbol):\n",
    "    \n",
    "    mg = mygene.MyGeneInfo()\n",
    "    gene_id = \"empty\"\n",
    "    \n",
    "    if gene_symbol[0:2] == 'AT' and len(gene_symbol) == 9: # is conversion necessary at all?\n",
    "        gene_id = gene_symbol\n",
    "    else:\n",
    "        try: # is there a httpError occuring?\n",
    "            query = mg.query(gene_symbol, species='thale-cress')\n",
    "        except:\n",
    "            pass # if yes return gene_id (see below)\n",
    "        else: # if no, find the id if it existsgene_id = find_id(query)\n",
    "            gene_id = find_id(query)\n",
    "    \n",
    "    return gene_id\n",
    "\n",
    "\n",
    "def symbol_to_id(gene_symbol_list):\n",
    "    gene_ids = [0]*len(gene_symbol_list)\n",
    "    \n",
    "    for i in range(len(gene_symbol_list)):\n",
    "        gene_ids[i] = get_gene_id(gene_symbol_list[i])\n",
    "    \n",
    "    return gene_ids"
   ]
  },
  {
   "cell_type": "code",
   "execution_count": 3,
   "metadata": {},
   "outputs": [],
   "source": [
    "mg = mygene.MyGeneInfo()\n",
    "k = mg.query('GSTF8', species='thale-cress')\n",
    "\n",
    "handler = open(\"/Users/manuel/Desktop/gene_names/orig_gene_names.txt\", 'r')\n",
    "gene_symbols = [gene.split('\\n')[0] for gene in handler.readlines()]"
   ]
  },
  {
   "cell_type": "code",
   "execution_count": 5,
   "metadata": {},
   "outputs": [],
   "source": [
    "ids_2 = symbol_to_id(gene_symbols)"
   ]
  },
  {
   "cell_type": "code",
   "execution_count": 12,
   "metadata": {},
   "outputs": [
    {
     "data": {
      "text/plain": [
       "32835"
      ]
     },
     "execution_count": 12,
     "metadata": {},
     "output_type": "execute_result"
    }
   ],
   "source": [
    "len(ids_2)"
   ]
  },
  {
   "cell_type": "code",
   "execution_count": null,
   "metadata": {},
   "outputs": [],
   "source": [
    "symbol_to_id(gene_symbols[1626:1629])"
   ]
  },
  {
   "cell_type": "code",
   "execution_count": 13,
   "metadata": {},
   "outputs": [],
   "source": [
    "handler = open(\"/Users/manuel/Desktop/orig_gene_names_ids_improved.txt\", 'w')\n",
    "\n",
    "for gene_id in ids_2:\n",
    "    handler.write(gene_id)\n",
    "    handler.write('\\n')"
   ]
  },
  {
   "cell_type": "code",
   "execution_count": 9,
   "metadata": {},
   "outputs": [
    {
     "name": "stdout",
     "output_type": "stream",
     "text": [
      "32584\n"
     ]
    }
   ],
   "source": [
    "k = 0\n",
    "for i in ids_2:\n",
    "    if i != 'empty' and len(i) == 9:\n",
    "        k += 1\n",
    "        \n",
    "print(k)"
   ]
  },
  {
   "cell_type": "code",
   "execution_count": 10,
   "metadata": {},
   "outputs": [
    {
     "data": {
      "text/plain": [
       "32835"
      ]
     },
     "execution_count": 10,
     "metadata": {},
     "output_type": "execute_result"
    }
   ],
   "source": [
    "len(ids_2)"
   ]
  },
  {
   "cell_type": "code",
   "execution_count": null,
   "metadata": {},
   "outputs": [],
   "source": [
    "ids_2"
   ]
  },
  {
   "cell_type": "code",
   "execution_count": null,
   "metadata": {},
   "outputs": [],
   "source": [
    "mg.query('ATE1', species='thale-cress')"
   ]
  },
  {
   "cell_type": "code",
   "execution_count": null,
   "metadata": {},
   "outputs": [],
   "source": []
  },
  {
   "cell_type": "code",
   "execution_count": null,
   "metadata": {},
   "outputs": [],
   "source": []
  },
  {
   "cell_type": "code",
   "execution_count": null,
   "metadata": {},
   "outputs": [],
   "source": [
    "# old!!\n",
    "\n",
    "def get_gene_id(gene_symbol):\n",
    "    from urllib.error import HTTPError\n",
    "    mg = mygene.MyGeneInfo()\n",
    "    gene_id = None\n",
    "    if gene_symbol[0:2] == 'AT':\n",
    "        gene_id = gene_symbol\n",
    "    else:\n",
    "        try:\n",
    "            id = mg.query(gene_symbol, species='thale-cress')\n",
    "        except:\n",
    "            print(\"something went wrong\")\n",
    "        else:\n",
    "            if id['hits'][0]['_id'][0:2] == 'AT':\n",
    "                gene_id = id['hits'][0]['_id']\n",
    "            else:\n",
    "                if len(id['hits']) > 1:\n",
    "                    gene_id = id['hits'][1]['_id']\n",
    "                else:\n",
    "                    gened_id = id['hits'][0]['_id'] + \"-no_AT\"\n",
    "    \n",
    "    return gene_id\n",
    "\n",
    "\n",
    "def symbol_to_id(gene_symbol_list):\n",
    "    gene_ids = [0]*len(gene_symbol_list)\n",
    "    \n",
    "    for i in range(len(gene_symbol_list)):\n",
    "        print(i)\n",
    "        gene_ids[i] = get_gene_id(gene_symbol_list[i])\n",
    "    \n",
    "    return gene_ids"
   ]
  }
 ],
 "metadata": {
  "kernelspec": {
   "display_name": "Python [conda env:scanpy_env] *",
   "language": "python",
   "name": "conda-env-scanpy_env-py"
  },
  "language_info": {
   "codemirror_mode": {
    "name": "ipython",
    "version": 3
   },
   "file_extension": ".py",
   "mimetype": "text/x-python",
   "name": "python",
   "nbconvert_exporter": "python",
   "pygments_lexer": "ipython3",
   "version": "3.7.5"
  }
 },
 "nbformat": 4,
 "nbformat_minor": 2
}
