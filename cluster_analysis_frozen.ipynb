{
 "cells": [
  {
   "cell_type": "code",
   "execution_count": 1,
   "metadata": {},
   "outputs": [],
   "source": [
    "import scanpy as sp\n",
    "import matplotlib.pyplot as plt\n",
    "import numpy as np\n",
    "import pandas as pd\n",
    "import scipy as scp\n",
    "import anndata as ad\n",
    "from scipy import io as spio"
   ]
  },
  {
   "cell_type": "markdown",
   "metadata": {},
   "source": [
    "# Convert .txt to .h5ad"
   ]
  },
  {
   "cell_type": "code",
   "execution_count": null,
   "metadata": {},
   "outputs": [],
   "source": [
    "path = \"/Users/manuel/Desktop/bowtie_strategy/complete_dge_matrix/expression.txt\"\n",
    "k = sp.read_text(path)\n",
    "n_obs = len(k.var)\n",
    "n_var = len(k.obs)\n",
    "k_t = ad.AnnData(X=None, shape=(n_obs, n_var))\n",
    "k_t.X = k.X.transpose()\n",
    "k_t.obs = k.var\n",
    "k_t.var = k.obs\n",
    "k_t.write(\"/Users/manuel/Desktop/bowtie_strategy/complete_dge_matrix/expression_complete.h5ad\", compression='gzip')"
   ]
  },
  {
   "cell_type": "markdown",
   "metadata": {},
   "source": [
    "# Convert .mat to .h5ad"
   ]
  },
  {
   "cell_type": "code",
   "execution_count": null,
   "metadata": {},
   "outputs": [],
   "source": [
    "matrx = spio.loadmat(\"/Users/manuel/OneDrive/jupyter_notebooks/scanpy_scRNA-seq_analysis/GSM3017263_same_day_cells_nuclei_300_UBCs.mat\")\n",
    "# create anndata object with matrix in matrx object\n",
    "k_t = ad.AnnData(matrx['DGE'])\n",
    "# assign genes element of matrx as pandas DataFrame to var\n",
    "k_t.var = pd.DataFrame(matrx['genes'])\n",
    "# assign barcode element of matrx as pandas DataFrame to obs\n",
    "k_t.obs = pd.DataFrame(matrx['barcodes'])"
   ]
  },
  {
   "cell_type": "code",
   "execution_count": null,
   "metadata": {},
   "outputs": [],
   "source": [
    "# we now want to get a dataframe that has only rownames (corresponding to gene names)\n",
    "# of type str\n",
    "\n",
    "k = k_t.var\n",
    "\n",
    "# extract gene names\n",
    "gene_names = []\n",
    "for i in range(len(k)):\n",
    "    gene_names.append(str(k[0][i]))\n",
    "\n",
    "# make dictionary that maps gene names (in int16) of colum to value of rownames\n",
    "my_dic = {}\n",
    "old_row_names = k.index.values\n",
    "for i in range(len(k)):\n",
    "    my_dic[old_row_names[i]] = gene_names[i]\n",
    "\n",
    "# change the rownames\n",
    "k = k.rename(index=my_dic)\n",
    "\n",
    "# remove the column that for some weird reason contained the gene names\n",
    "k = k.drop([0], axis=1)"
   ]
  },
  {
   "cell_type": "code",
   "execution_count": null,
   "metadata": {},
   "outputs": [],
   "source": [
    "# we now want to get a dataframe that has only rownames (corresponding to barcodes)\n",
    "# of type str\n",
    "\n",
    "uu = k_t.obs\n",
    "\n",
    "gene_names = []\n",
    "for i in range(len(uu)):\n",
    "    gene_names.append(str(uu[0][i]))\n",
    "\n",
    "my_dic = {}\n",
    "old_row_names = uu.index.values\n",
    "for i in range(len(uu)):\n",
    "    my_dic[old_row_names[i]] = gene_names[i]\n",
    "    \n",
    "uu = uu.rename(index=my_dic)\n",
    "uu = uu.drop([0], axis=1)"
   ]
  },
  {
   "cell_type": "code",
   "execution_count": null,
   "metadata": {},
   "outputs": [],
   "source": [
    "# assign the row and col data back in the correct format (DataFrame with all entries\n",
    "# of type str)\n",
    "k_t.var = k\n",
    "k_t.obs = uu"
   ]
  },
  {
   "cell_type": "code",
   "execution_count": null,
   "metadata": {},
   "outputs": [],
   "source": [
    "output_file = \"/Users/manuel/OneDrive/jupyter_notebooks/scanpy_scRNA-seq_analysis/GSM3017263_same_day_cells_nuclei_300_UBCs.h5ad\"\n",
    "k_t.write(output_file, compression='gzip')"
   ]
  },
  {
   "cell_type": "markdown",
   "metadata": {},
   "source": [
    "# my matrix"
   ]
  },
  {
   "cell_type": "code",
   "execution_count": 7,
   "metadata": {},
   "outputs": [],
   "source": [
    "input_file = \"/Users/manuel/Desktop/bowtie_strategy/complete_dge_matrix/expression_complete.h5ad\"\n",
    "my = sp.read(input_file)"
   ]
  },
  {
   "cell_type": "code",
   "execution_count": 9,
   "metadata": {},
   "outputs": [
    {
     "name": "stderr",
     "output_type": "stream",
     "text": [
      "/Users/manuel/anaconda3/envs/scanpy_env/lib/python3.7/site-packages/scanpy/preprocessing/_qc.py:375: RuntimeWarning: divide by zero encountered in true_divide\n",
      "  return values / sums[:, None]\n",
      "/Users/manuel/anaconda3/envs/scanpy_env/lib/python3.7/site-packages/scanpy/preprocessing/_qc.py:375: RuntimeWarning: invalid value encountered in true_divide\n",
      "  return values / sums[:, None]\n"
     ]
    }
   ],
   "source": [
    "sp.pp.calculate_qc_metrics(my, inplace=True)"
   ]
  },
  {
   "cell_type": "code",
   "execution_count": 10,
   "metadata": {
    "collapsed": true
   },
   "outputs": [
    {
     "data": {
      "image/png": "[encoded data removed]",
      "text/plain": [
       "<Figure size 432x288 with 1 Axes>"
      ]
     },
     "metadata": {
      "needs_background": "light"
     },
     "output_type": "display_data"
    }
   ],
   "source": [
    "plt.hist(my.obs['total_counts'], 5000, histtype='bar', rwidth=0.5, align='left')\n",
    "plt.yscale('log')\n",
    "plt.xscale('log')"
   ]
  },
  {
   "cell_type": "markdown",
   "metadata": {},
   "source": [
    "### remove cells with zero counts"
   ]
  },
  {
   "cell_type": "code",
   "execution_count": 12,
   "metadata": {},
   "outputs": [],
   "source": [
    "# get vector that contains True if cell has zero counts\n",
    "zero_counts = [False]*len(my.obs)\n",
    "for i in range(len(my.obs)):\n",
    "    if my.obs['total_counts'][i] == 0:\n",
    "        zero_counts[i] = True\n",
    "        \n",
    "# assign this vector to dge object    \n",
    "my.obs['zero_counts'] = zero_counts\n",
    "\n",
    "# filter out cells with zero counts\n",
    "my_presel_1 = my[my.obs['zero_counts'] == False, :]"
   ]
  },
  {
   "cell_type": "code",
   "execution_count": 16,
   "metadata": {},
   "outputs": [
    {
     "data": {
      "image/png": "[encoded data removed]",
      "text/plain": [
       "<Figure size 432x288 with 1 Axes>"
      ]
     },
     "metadata": {
      "needs_background": "light"
     },
     "output_type": "display_data"
    }
   ],
   "source": [
    "plt.hist(my_presel_1.obs['total_counts'], 5000, histtype='bar', rwidth=0.5, align='left')\n",
    "plt.yscale('log')\n",
    "plt.xscale('log')"
   ]
  },
  {
   "cell_type": "markdown",
   "metadata": {},
   "source": [
    "### pre-select again"
   ]
  },
  {
   "cell_type": "code",
   "execution_count": 42,
   "metadata": {},
   "outputs": [
    {
     "name": "stdout",
     "output_type": "stream",
     "text": [
      "32683\n",
      "43110\n",
      "32681\n"
     ]
    }
   ],
   "source": [
    "lower_lim = my_presel_1.obs['total_counts'] > 1\n",
    "upper_lim = my_presel_1.obs['total_counts'] < 100000\n",
    "my_presel_1.obs['keep'] = lower_lim & upper_lim\n",
    "\n",
    "print(sum(lower_lim))\n",
    "print(sum(upper_lim))\n",
    "print(sum(my_presel_1.obs['keep']))"
   ]
  },
  {
   "cell_type": "code",
   "execution_count": 43,
   "metadata": {},
   "outputs": [],
   "source": [
    "my_presel_2 = my_presel_1[my_presel_1.obs['keep'] == True, :]"
   ]
  },
  {
   "cell_type": "code",
   "execution_count": 22,
   "metadata": {
    "collapsed": true
   },
   "outputs": [
    {
     "data": {
      "text/plain": [
       "View of AnnData object with n_obs × n_vars = 380 × 22355 \n",
       "    obs: 'n_genes_by_counts', 'log1p_n_genes_by_counts', 'total_counts', 'log1p_total_counts', 'pct_counts_in_top_50_genes', 'pct_counts_in_top_100_genes', 'pct_counts_in_top_200_genes', 'pct_counts_in_top_500_genes', 'zero_counts', 'keep'\n",
       "    var: 'n_cells_by_counts', 'mean_counts', 'log1p_mean_counts', 'pct_dropout_by_counts', 'total_counts', 'log1p_total_counts'"
      ]
     },
     "execution_count": 22,
     "metadata": {},
     "output_type": "execute_result"
    }
   ],
   "source": [
    "my_presel_2"
   ]
  },
  {
   "cell_type": "code",
   "execution_count": 28,
   "metadata": {},
   "outputs": [
    {
     "data": {
      "image/png": "[encoded data removed]",
      "text/plain": [
       "<Figure size 432x288 with 1 Axes>"
      ]
     },
     "metadata": {
      "needs_background": "light"
     },
     "output_type": "display_data"
    }
   ],
   "source": [
    "plt.hist(my_presel_2.obs['total_counts'], 5000, histtype='bar', rwidth=0.5, align='left')\n",
    "plt.yscale('log')\n",
    "plt.xscale('log')"
   ]
  },
  {
   "cell_type": "code",
   "execution_count": null,
   "metadata": {},
   "outputs": [],
   "source": [
    "# > 5000\n",
    "plt.hist(sp_frozen_presel_2.obs['total_counts'], 50, histtype='bar', rwidth=0.5, align='left')\n",
    "plt.yscale('log')\n",
    "plt.xscale('log')"
   ]
  },
  {
   "cell_type": "markdown",
   "metadata": {},
   "source": [
    "## final pre-select"
   ]
  },
  {
   "cell_type": "code",
   "execution_count": null,
   "metadata": {
    "scrolled": true
   },
   "outputs": [],
   "source": [
    "lower_lim = sp_frozen_presel_1.obs['total_counts'] > 5000\n",
    "upper_lim = sp_frozen_presel_1.obs['total_counts'] < 19000\n",
    "sp_frozen_presel_1.obs['keep'] = lower_lim & upper_lim\n",
    "\n",
    "print(sum(lower_lim))\n",
    "print(sum(upper_lim))\n",
    "print(sum(sp_frozen_presel_1.obs['keep']))\n",
    "\n",
    "sp_frozen_presel_3 = sp_frozen_presel_1[sp_frozen_presel_1.obs['keep'] == True, :]"
   ]
  },
  {
   "cell_type": "markdown",
   "metadata": {},
   "source": [
    "## plotting pre-selection"
   ]
  },
  {
   "cell_type": "code",
   "execution_count": null,
   "metadata": {},
   "outputs": [],
   "source": [
    "fig, axes = plt.subplots(2,2, figsize = (12,6))\n",
    "\n",
    "axes[0][0].hist(sp_frozen.obs['total_counts'], 5, histtype='bar', rwidth=0.5, align='left')\n",
    "axes[0][0].set_yscale('log')\n",
    "axes[0][0].set_xscale('log')\n",
    "axes[0][0].set_ylabel(\"frequency\")\n",
    "axes[0][0].set_xlabel(\"total counts\")\n",
    "\n",
    "axes[0][1].hist(sp_frozen_presel_1.obs['total_counts'], 50, histtype='bar', rwidth=0.5, align='left')\n",
    "axes[0][1].set_yscale('log')\n",
    "axes[0][1].set_xscale('log')\n",
    "axes[0][1].set_ylabel(\"frequency\")\n",
    "axes[0][1].set_xlabel(\"total counts\")\n",
    "\n",
    "axes[1][0].hist(sp_frozen_presel_2.obs['total_counts'], 100, histtype='bar', rwidth=0.5, align='left')\n",
    "axes[1][0].set_ylabel(\"frequency\")\n",
    "axes[1][0].set_xlabel(\"total counts\")\n",
    "\n",
    "axes[1][1].hist(sp_frozen_presel_3.obs['total_counts'], 20, histtype='bar', rwidth=0.5, align='left')\n",
    "axes[1][1].set_ylabel(\"frequency\")\n",
    "axes[1][1].set_xlabel(\"total counts\")\n",
    "\n",
    "fig.tight_layout()\n",
    "\n",
    "plt.savefig('testplot.png', dpi=500)"
   ]
  },
  {
   "cell_type": "markdown",
   "metadata": {},
   "source": [
    "## QC metrics"
   ]
  },
  {
   "cell_type": "code",
   "execution_count": null,
   "metadata": {},
   "outputs": [],
   "source": [
    "sp.pp.calculate_qc_metrics(sp_frozen_presel_3, inplace=True)"
   ]
  },
  {
   "cell_type": "code",
   "execution_count": null,
   "metadata": {},
   "outputs": [],
   "source": [
    "sp.pl.highest_expr_genes(sp_frozen_presel_3, n_top=20, )"
   ]
  },
  {
   "cell_type": "code",
   "execution_count": null,
   "metadata": {},
   "outputs": [],
   "source": [
    "mito_genes = sp_frozen_presel_3.var_names.str.startswith('mt')\n",
    "print(np.sum(mito_genes))\n",
    "sp_frozen_presel_3.obs['percent_mito'] = np.sum(sp_frozen_presel_3[:, mito_genes].X, axis=1) / np.sum(sp_frozen_presel_3.X, axis=1)"
   ]
  },
  {
   "cell_type": "code",
   "execution_count": null,
   "metadata": {},
   "outputs": [],
   "source": [
    "sp.pl.violin(sp_frozen_presel_2, ['n_genes_by_counts', 'total_counts', 'percent_mito'],\n",
    "             jitter=0.4, multi_panel=True)"
   ]
  },
  {
   "cell_type": "code",
   "execution_count": null,
   "metadata": {},
   "outputs": [],
   "source": [
    "fig, axes = plt.subplots(1,2, figsize = (12,4))\n",
    "axes[0].scatter(sp_frozen_presel_2.obs[\"total_counts\"], sp_frozen_presel_2.obs[\"n_genes_by_counts\"], color='r')\n",
    "axes[0].grid(True)\n",
    "axes[0].set_ylabel(\"number of genes\")\n",
    "axes[0].set_xlabel(\"total counts\")\n",
    "axes[1].scatter(sp_frozen_presel_2.obs[\"total_counts\"], sp_frozen_presel_2.obs[\"percent_mito\"], color='r')\n",
    "axes[1].grid(True)\n",
    "axes[1].set_ylabel(\"percent mito genes\")\n",
    "axes[1].set_xlabel(\"total counts\")"
   ]
  },
  {
   "cell_type": "markdown",
   "metadata": {},
   "source": [
    "# original matrix"
   ]
  },
  {
   "cell_type": "markdown",
   "metadata": {},
   "source": [
    "### count distribution"
   ]
  },
  {
   "cell_type": "code",
   "execution_count": 6,
   "metadata": {},
   "outputs": [],
   "source": [
    "input_file = \"/Users/manuel/OneDrive/jupyter_notebooks/scanpy_scRNA-seq_analysis/GSM3017265_frozen_preserved_cells_nuclei_200_UBCs.h5ad\"\n",
    "orig = sp.read(input_file)"
   ]
  },
  {
   "cell_type": "code",
   "execution_count": 8,
   "metadata": {},
   "outputs": [],
   "source": [
    "sp.pp.calculate_qc_metrics(orig, inplace=True)"
   ]
  },
  {
   "cell_type": "code",
   "execution_count": null,
   "metadata": {},
   "outputs": [],
   "source": [
    "barcodes_orig = [barcode.split('_')[0] for barcode in k_t.obs.index]"
   ]
  },
  {
   "cell_type": "code",
   "execution_count": null,
   "metadata": {},
   "outputs": [],
   "source": [
    "k_t.obs['total_counts'] = np.sum(k_t.X, axis=1)"
   ]
  },
  {
   "cell_type": "code",
   "execution_count": 4,
   "metadata": {},
   "outputs": [
    {
     "data": {
      "image/png": "[encoded data removed]",
      "text/plain": [
       "<Figure size 432x288 with 1 Axes>"
      ]
     },
     "metadata": {
      "needs_background": "light"
     },
     "output_type": "display_data"
    }
   ],
   "source": [
    "plt.hist(k_t.obs['total_counts'], 500, histtype='bar', rwidth=0.5, align='left')\n",
    "plt.yscale('log')\n",
    "plt.xscale('log')"
   ]
  },
  {
   "cell_type": "code",
   "execution_count": 17,
   "metadata": {},
   "outputs": [
    {
     "data": {
      "text/plain": [
       "AnnData object with n_obs × n_vars = 203 × 63940 \n",
       "    obs: 'n_genes_by_counts', 'log1p_n_genes_by_counts', 'total_counts', 'log1p_total_counts', 'pct_counts_in_top_50_genes', 'pct_counts_in_top_100_genes', 'pct_counts_in_top_200_genes', 'pct_counts_in_top_500_genes'\n",
       "    var: 'n_cells_by_counts', 'mean_counts', 'log1p_mean_counts', 'pct_dropout_by_counts', 'total_counts', 'log1p_total_counts'"
      ]
     },
     "execution_count": 17,
     "metadata": {},
     "output_type": "execute_result"
    }
   ],
   "source": [
    "orig"
   ]
  },
  {
   "cell_type": "code",
   "execution_count": null,
   "metadata": {},
   "outputs": [],
   "source": [
    "sp.pl.highest_expr_genes(k_t, n_top=20)"
   ]
  },
  {
   "cell_type": "markdown",
   "metadata": {},
   "source": [
    "## "
   ]
  },
  {
   "cell_type": "code",
   "execution_count": null,
   "metadata": {},
   "outputs": [],
   "source": [
    "mito_genes_mouse = k_t.var_names.str.startswith('mt')\n",
    "\n",
    "mito_genes_human = k_t.var_names.str.startswith('MT')\n",
    "\n",
    "mito_genes = [False]*len(k_t.var)\n",
    "for i in range(len(k_t.var)):\n",
    "    if mito_genes_mouse[i] or mito_genes_human[i]:\n",
    "        mito_genes[i] = True\n",
    "\n",
    "print(sum(mito_genes))\n",
    "\n",
    "\n",
    "k_t.obs['percent_mito'] = np.sum(k_t[:, mito_genes].X, axis=1) / np.sum(k_t.X, axis=1)"
   ]
  },
  {
   "cell_type": "code",
   "execution_count": null,
   "metadata": {},
   "outputs": [],
   "source": [
    "sp.pl.violin(k_t, ['n_genes_by_counts', 'total_counts', 'percent_mito'],\n",
    "             jitter=0.4, multi_panel=True)"
   ]
  },
  {
   "cell_type": "code",
   "execution_count": null,
   "metadata": {},
   "outputs": [],
   "source": [
    "fig, axes = plt.subplots(2,3, figsize = (10, 6))\n",
    "\n",
    "#--------------\n",
    "#original data\n",
    "\n",
    "axes[0][0].violinplot(k_t.obs['total_counts'], points=40, widths=0.5, \n",
    "                      bw_method='silverman')\n",
    "axes[0][0].set_title(\"total counts\", size='xx-large')\n",
    "\n",
    "axes[0][1].violinplot(k_t.obs['n_genes_by_counts'], points=40, widths=0.5, \n",
    "                      bw_method='silverman')\n",
    "axes[0][1].set_title(\"no. genes per count\", size='xx-large')\n",
    "\n",
    "axes[0][2].violinplot(k_t.obs['percent_mito'], points=40, widths=0.5, \n",
    "                      bw_method='silverman')\n",
    "axes[0][2].set_title(\"% mito genes\", size='xx-large')\n",
    "\n",
    "\n",
    "#--------\n",
    "#my data\n",
    "\n",
    "axes[1][0].violinplot(sp_frozen_presel_3.obs['total_counts'], points=40, widths=0.5, \n",
    "                      bw_method='silverman')\n",
    "\n",
    "axes[1][1].violinplot(sp_frozen_presel_3.obs['n_genes_by_counts'], points=40, widths=0.5, \n",
    "                      bw_method='silverman')\n",
    "\n",
    "axes[1][2].violinplot(sp_frozen_presel_3.obs['percent_mito'], points=40, widths=0.5, \n",
    "                      bw_method='silverman')\n",
    "\n",
    "\n",
    "fig.tight_layout()\n",
    "\n",
    "plt.savefig('QC_metrics_1.png', dpi=500)"
   ]
  },
  {
   "cell_type": "code",
   "execution_count": null,
   "metadata": {},
   "outputs": [],
   "source": []
  },
  {
   "cell_type": "code",
   "execution_count": null,
   "metadata": {},
   "outputs": [],
   "source": [
    "fig, axes = plt.subplots(2,2, figsize = (12,8))\n",
    "\n",
    "#--------------\n",
    "#original data\n",
    "\n",
    "axes[0][0].scatter(k_t.obs[\"total_counts\"], k_t.obs[\"n_genes_by_counts\"], color='r')\n",
    "axes[0][0].grid(True)\n",
    "axes[0][0].set_ylabel(\"number of genes\")\n",
    "axes[0][0].set_xlabel(\"total counts\")\n",
    "axes[0][0].set_title(\"genes vs. total counts\", size='xx-large')\n",
    "\n",
    "axes[0][1].scatter(k_t.obs[\"total_counts\"], k_t.obs[\"percent_mito\"], color='r')\n",
    "axes[0][1].grid(True)\n",
    "axes[0][1].set_ylabel(\"percent mito genes\")\n",
    "axes[0][1].set_xlabel(\"total counts\")\n",
    "axes[0][1].set_title(\"% mito genes vs. total counts\", size='xx-large')\n",
    "\n",
    "#--------\n",
    "#my data\n",
    "\n",
    "axes[1][0].scatter(sp_frozen_presel_3.obs[\"total_counts\"], sp_frozen_presel_3.obs[\"n_genes_by_counts\"], color='r')\n",
    "axes[1][0].grid(True)\n",
    "axes[1][0].set_ylabel(\"number of genes\")\n",
    "axes[1][0].set_xlabel(\"total counts\")\n",
    "\n",
    "axes[1][1].scatter(sp_frozen_presel_3.obs[\"total_counts\"], sp_frozen_presel_3.obs[\"percent_mito\"], color='r')\n",
    "axes[1][1].grid(True)\n",
    "axes[1][1].set_ylabel(\"percent mito genes\")\n",
    "axes[1][1].set_xlabel(\"total counts\")\n",
    "\n",
    "fig.tight_layout()\n",
    "\n",
    "\n",
    "plt.savefig('QC_metrics_2.png', dpi=500)"
   ]
  },
  {
   "cell_type": "markdown",
   "metadata": {},
   "source": [
    "### PCA plot"
   ]
  },
  {
   "cell_type": "code",
   "execution_count": 44,
   "metadata": {},
   "outputs": [
    {
     "name": "stderr",
     "output_type": "stream",
     "text": [
      "/Users/manuel/anaconda3/envs/scanpy_env/lib/python3.7/site-packages/scanpy/preprocessing/_simple.py:285: UserWarning: Revieved a view of an AnnData. Making a copy.\n",
      "  view_to_actual(data)\n"
     ]
    },
    {
     "data": {
      "text/plain": [
       "View of AnnData object with n_obs × n_vars = 32681 × 10166 \n",
       "    obs: 'n_genes_by_counts', 'log1p_n_genes_by_counts', 'total_counts', 'log1p_total_counts', 'pct_counts_in_top_50_genes', 'pct_counts_in_top_100_genes', 'pct_counts_in_top_200_genes', 'pct_counts_in_top_500_genes', 'zero_counts', 'keep'\n",
       "    var: 'n_cells_by_counts', 'mean_counts', 'log1p_mean_counts', 'pct_dropout_by_counts', 'total_counts', 'log1p_total_counts', 'highly_variable', 'means', 'dispersions', 'dispersions_norm'"
      ]
     },
     "execution_count": 44,
     "metadata": {},
     "output_type": "execute_result"
    }
   ],
   "source": [
    "k_t = my_presel_2\n",
    "sp.pp.normalize_total(k_t, target_sum=1e4)\n",
    "sp.pp.log1p(k_t)\n",
    "sp.pp.highly_variable_genes(k_t, min_mean=0.0125, max_mean=3, min_disp=0.5)\n",
    "k_t_hvg = k_t[:, k_t.var.highly_variable]\n",
    "k_t_hvg"
   ]
  },
  {
   "cell_type": "code",
   "execution_count": 45,
   "metadata": {},
   "outputs": [
    {
     "name": "stderr",
     "output_type": "stream",
     "text": [
      "/Users/manuel/anaconda3/envs/scanpy_env/lib/python3.7/site-packages/scanpy/preprocessing/_simple.py:869: UserWarning: Revieved a view of an AnnData. Making a copy.\n",
      "  view_to_actual(adata)\n"
     ]
    },
    {
     "data": {
      "image/png": "[encoded data removed]",
      "text/plain": [
       "<Figure size 432x288 with 1 Axes>"
      ]
     },
     "metadata": {},
     "output_type": "display_data"
    }
   ],
   "source": [
    "sp.pp.scale(k_t_hvg, max_value=10)\n",
    "sp.tl.pca(k_t_hvg, svd_solver='arpack')\n",
    "sp.pl.pca(k_t_hvg)"
   ]
  },
  {
   "cell_type": "code",
   "execution_count": 46,
   "metadata": {},
   "outputs": [
    {
     "name": "stderr",
     "output_type": "stream",
     "text": [
      "/Users/manuel/anaconda3/envs/scanpy_env/lib/python3.7/site-packages/numba/typed_passes.py:271: NumbaPerformanceWarning: \n",
      "The keyword argument 'parallel=True' was specified but no transformation for parallel execution was possible.\n",
      "\n",
      "To find out why, try turning on parallel diagnostics, see http://numba.pydata.org/numba-doc/latest/user/parallel.html#diagnostics for help.\n",
      "\n",
      "File \"../../../anaconda3/envs/scanpy_env/lib/python3.7/site-packages/umap/rp_tree.py\", line 135:\n",
      "@numba.njit(fastmath=True, nogil=True, parallel=True)\n",
      "def euclidean_random_projection_split(data, indices, rng_state):\n",
      "^\n",
      "\n",
      "  state.func_ir.loc))\n",
      "/Users/manuel/anaconda3/envs/scanpy_env/lib/python3.7/site-packages/umap/nndescent.py:92: NumbaPerformanceWarning: \n",
      "The keyword argument 'parallel=True' was specified but no transformation for parallel execution was possible.\n",
      "\n",
      "To find out why, try turning on parallel diagnostics, see http://numba.pydata.org/numba-doc/latest/user/parallel.html#diagnostics for help.\n",
      "\n",
      "File \"../../../anaconda3/envs/scanpy_env/lib/python3.7/site-packages/umap/utils.py\", line 409:\n",
      "@numba.njit(parallel=True)\n",
      "def build_candidates(current_graph, n_vertices, n_neighbors, max_candidates, rng_state):\n",
      "^\n",
      "\n",
      "  current_graph, n_vertices, n_neighbors, max_candidates, rng_state\n",
      "/Users/manuel/anaconda3/envs/scanpy_env/lib/python3.7/site-packages/numba/typed_passes.py:271: NumbaPerformanceWarning: \n",
      "The keyword argument 'parallel=True' was specified but no transformation for parallel execution was possible.\n",
      "\n",
      "To find out why, try turning on parallel diagnostics, see http://numba.pydata.org/numba-doc/latest/user/parallel.html#diagnostics for help.\n",
      "\n",
      "File \"../../../anaconda3/envs/scanpy_env/lib/python3.7/site-packages/umap/nndescent.py\", line 47:\n",
      "    @numba.njit(parallel=True)\n",
      "    def nn_descent(\n",
      "    ^\n",
      "\n",
      "  state.func_ir.loc))\n"
     ]
    },
    {
     "data": {
      "image/png": "[encoded data removed]",
      "text/plain": [
       "<Figure size 432x288 with 1 Axes>"
      ]
     },
     "metadata": {},
     "output_type": "display_data"
    }
   ],
   "source": [
    "sp.pp.neighbors(k_t_hvg, n_neighbors=10, n_pcs=40)\n",
    "sp.tl.umap(k_t_hvg)\n",
    "sp.tl.leiden(k_t_hvg)\n",
    "sp.pl.umap(k_t_hvg, color='leiden')"
   ]
  },
  {
   "cell_type": "code",
   "execution_count": null,
   "metadata": {},
   "outputs": [],
   "source": [
    "sp.tl.tsne(k_t_hvg)"
   ]
  },
  {
   "cell_type": "markdown",
   "metadata": {},
   "source": [
    "# my matrix"
   ]
  },
  {
   "cell_type": "markdown",
   "metadata": {},
   "source": [
    "### PCA plot"
   ]
  },
  {
   "cell_type": "code",
   "execution_count": null,
   "metadata": {},
   "outputs": [],
   "source": [
    "sp.pp.normalize_total(sp_frozen_presel_3, target_sum=1e4)\n",
    "sp.pp.log1p(sp_frozen_presel_3)\n",
    "sp.pp.highly_variable_genes(sp_frozen_presel_3, min_mean=0.0125, max_mean=3, min_disp=0.5)\n",
    "sp_frozen_presel_3_hvg = sp_frozen_presel_3[:, sp_frozen_presel_3.var.highly_variable]\n",
    "sp_frozen_presel_3_hvg"
   ]
  },
  {
   "cell_type": "code",
   "execution_count": null,
   "metadata": {},
   "outputs": [],
   "source": [
    "sp.pp.scale(sp_frozen_presel_3_hvg, max_value=10)\n",
    "sp.tl.pca(sp_frozen_presel_3_hvg, svd_solver='arpack', n_comps=100)\n",
    "sp.pl.pca(sp_frozen_presel_3_hvg)"
   ]
  },
  {
   "cell_type": "markdown",
   "metadata": {},
   "source": [
    "### UMAP plot and Leiden clustering"
   ]
  },
  {
   "cell_type": "code",
   "execution_count": null,
   "metadata": {},
   "outputs": [],
   "source": [
    "sp.pp.neighbors(sp_frozen_presel_3_hvg, n_neighbors=30, n_pcs=50)\n",
    "sp.tl.umap(sp_frozen_presel_3_hvg)\n",
    "sp.tl.leiden(sp_frozen_presel_3_hvg)\n",
    "sp.pl.umap(sp_frozen_presel_3_hvg, color='leiden')"
   ]
  },
  {
   "cell_type": "code",
   "execution_count": null,
   "metadata": {},
   "outputs": [],
   "source": [
    "sp.tl.tsne(sp_frozen_presel_3_hvg)"
   ]
  },
  {
   "cell_type": "markdown",
   "metadata": {},
   "source": [
    "# -------------------------------------\n"
   ]
  },
  {
   "cell_type": "markdown",
   "metadata": {},
   "source": [
    "### extract PCA data"
   ]
  },
  {
   "cell_type": "code",
   "execution_count": null,
   "metadata": {},
   "outputs": [],
   "source": [
    "# Original Data\n",
    "length = len(k_t_hvg.obs)\n",
    "PC1_orig = [0]*length\n",
    "PC2_orig = [0]*length\n",
    "\n",
    "for i in range(length):\n",
    "    PC1_orig[i] = k_t_hvg.obsm['X_pca'][i][0]\n",
    "    PC2_orig[i] = k_t_hvg.obsm['X_pca'][i][1]\n",
    "\n",
    "# My Data\n",
    "length = len(sp_frozen_presel_3_hvg.obs)\n",
    "PC1_my = [0]*length\n",
    "PC2_my = [0]*length\n",
    "\n",
    "for i in range(length):\n",
    "    PC1_my[i] = sp_frozen_presel_3_hvg.obsm['X_pca'][i][0]\n",
    "    PC2_my[i] = sp_frozen_presel_3_hvg.obsm['X_pca'][i][1]"
   ]
  },
  {
   "cell_type": "markdown",
   "metadata": {},
   "source": [
    "### extract UMAP data"
   ]
  },
  {
   "cell_type": "code",
   "execution_count": null,
   "metadata": {},
   "outputs": [],
   "source": [
    "# original data\n",
    "length = len(k_t_hvg.obsm[\"X_umap\"])\n",
    "u1_orig = [0]*length\n",
    "u2_orig = [0]*length\n",
    "\n",
    "for i in range(length):\n",
    "    u1_orig[i] = k_t_hvg.obsm[\"X_umap\"][i][0]\n",
    "    u2_orig[i] = k_t_hvg.obsm[\"X_umap\"][i][1]\n",
    "\n",
    "    \n",
    "# my data\n",
    "length = len(sp_frozen_presel_3_hvg.obsm[\"X_umap\"])\n",
    "u1_my = [0]*length\n",
    "u2_my = [0]*length\n",
    "\n",
    "for i in range(length):\n",
    "    u1_my[i] = sp_frozen_presel_3_hvg.obsm[\"X_umap\"][i][0]\n",
    "    u2_my[i] = sp_frozen_presel_3_hvg.obsm[\"X_umap\"][i][1]"
   ]
  },
  {
   "cell_type": "markdown",
   "metadata": {},
   "source": [
    "### extract t-SNE data"
   ]
  },
  {
   "cell_type": "code",
   "execution_count": null,
   "metadata": {},
   "outputs": [],
   "source": [
    "# original data\n",
    "length = len(k_t_hvg.obsm[\"X_tsne\"])\n",
    "t1_orig = [0]*length\n",
    "t2_orig = [0]*length\n",
    "\n",
    "for i in range(length):\n",
    "    t1_orig[i] = k_t_hvg.obsm[\"X_tsne\"][i][0]\n",
    "    t2_orig[i] = k_t_hvg.obsm[\"X_tsne\"][i][1]\n",
    "\n",
    "# my data\n",
    "length = len(sp_frozen_presel_3_hvg.obsm[\"X_tsne\"])\n",
    "t1_my = [0]*length\n",
    "t2_my = [0]*length\n",
    "\n",
    "for i in range(length):\n",
    "    t1_my[i] = sp_frozen_presel_3_hvg.obsm[\"X_tsne\"][i][0]\n",
    "    t2_my[i] = sp_frozen_presel_3_hvg.obsm[\"X_tsne\"][i][1]"
   ]
  },
  {
   "cell_type": "markdown",
   "metadata": {},
   "source": [
    "### extract Leiden clustering data"
   ]
  },
  {
   "cell_type": "code",
   "execution_count": null,
   "metadata": {},
   "outputs": [],
   "source": [
    "# original data\n",
    "length = len(k_t_hvg.obs)\n",
    "cluster_no_orig = [0]*length\n",
    "\n",
    "for i in range(length):\n",
    "    cluster_no_orig[i] = int(k_t_hvg.obs['leiden'][i])\n",
    "\n",
    "    \n",
    "# my data\n",
    "length = len(sp_frozen_presel_3_hvg.obs)\n",
    "cluster_no_my = [0]*length\n",
    "\n",
    "for i in range(length):\n",
    "    cluster_no_my[i] = int(sp_frozen_presel_3_hvg.obs['leiden'][i])"
   ]
  },
  {
   "cell_type": "markdown",
   "metadata": {},
   "source": [
    "# Summary plots"
   ]
  },
  {
   "cell_type": "code",
   "execution_count": null,
   "metadata": {},
   "outputs": [],
   "source": [
    "fig, axes = plt.subplots(2,3, figsize = (12,6))\n",
    "\n",
    "#--------------\n",
    "#original data\n",
    "\n",
    "axes[0][0].scatter(PC1_orig, PC2_orig, c=cluster_no_orig, s=100, cmap='hsv', \n",
    "            edgecolor='black', linewidth=1, alpha=0.75)\n",
    "axes[0][0].set_ylabel(\"PC2\")\n",
    "axes[0][0].set_xlabel(\"PC1\")\n",
    "axes[0][0].set_title(\"PCA\", size='xx-large')\n",
    "\n",
    "axes[0][1].scatter(u1_orig, u2_orig, s=100, c=cluster_no_orig, cmap='hsv', \n",
    "            edgecolor='black', linewidth=1, alpha=0.75)\n",
    "axes[0][1].set_ylabel(\"UMAP2\")\n",
    "axes[0][1].set_xlabel(\"UMAP1\")\n",
    "axes[0][1].set_title(\"UMAP\", size='xx-large')\n",
    "\n",
    "axes[0][2].scatter(t1_orig, t2_orig, s=100, c=cluster_no_orig, cmap='hsv', \n",
    "            edgecolor='black', linewidth=1, alpha=0.75)\n",
    "axes[0][2].set_xlabel(\"t-SNE1\")\n",
    "axes[0][2].set_ylabel(\"t-SNE2\")\n",
    "axes[0][2].set_title(\"t-SNE\", size='xx-large')\n",
    "\n",
    "#---------\n",
    "# my data\n",
    "\n",
    "axes[1][0].scatter(PC1_my, PC2_my,c=cluster_no_my, s=100, cmap='hsv', \n",
    "            edgecolor='black', linewidth=1, alpha=0.75)\n",
    "axes[1][0].set_ylabel(\"PC2\")\n",
    "axes[1][0].set_xlabel(\"PC1\")\n",
    "\n",
    "axes[1][1].scatter(u1_my, u2_my, s=100, c=cluster_no_my, cmap='hsv', \n",
    "            edgecolor='black', linewidth=1, alpha=0.75)\n",
    "axes[1][1].set_ylabel(\"UMAP2\")\n",
    "axes[1][1].set_xlabel(\"UMAP1\")\n",
    "\n",
    "axes[1][2].scatter(t1_my, t2_my, s=100, c=cluster_no_my, cmap='hsv', \n",
    "            edgecolor='black', linewidth=1, alpha=0.75)\n",
    "axes[1][2].set_xlabel(\"t-SNE1\")\n",
    "axes[1][2].set_ylabel(\"t-SNE2\")\n",
    "\n",
    "\n",
    "fig.tight_layout()\n",
    "\n",
    "plt.savefig('dim_reduction_leiden.png', dpi=500)"
   ]
  },
  {
   "cell_type": "markdown",
   "metadata": {},
   "source": [
    "## how many unique barcodes?"
   ]
  },
  {
   "cell_type": "code",
   "execution_count": null,
   "metadata": {},
   "outputs": [],
   "source": [
    "input_file = \"/Users/manuel/Desktop/dge.h5ad\"\n",
    "sp_frozen = sp.read(input_file)"
   ]
  },
  {
   "cell_type": "code",
   "execution_count": null,
   "metadata": {},
   "outputs": [],
   "source": [
    "unique_cbcs = get_unique_elements(sp_frozen.obs.index)"
   ]
  },
  {
   "cell_type": "code",
   "execution_count": null,
   "metadata": {},
   "outputs": [],
   "source": [
    "len(unique_cbcs)"
   ]
  },
  {
   "cell_type": "code",
   "execution_count": null,
   "metadata": {},
   "outputs": [],
   "source": [
    "sp_frozen"
   ]
  },
  {
   "cell_type": "markdown",
   "metadata": {},
   "source": [
    "## how many barcodes are overlapping?"
   ]
  },
  {
   "cell_type": "code",
   "execution_count": null,
   "metadata": {},
   "outputs": [],
   "source": [
    "barcodes_my = sp_frozen.obs.index"
   ]
  },
  {
   "cell_type": "code",
   "execution_count": null,
   "metadata": {},
   "outputs": [],
   "source": [
    "# shorten barcodes to only contain R2 and R3 barcodes\n",
    "barcodes_my_short = [\"\"]*len(barcodes_my)\n",
    "\n",
    "for i in range(len(barcodes_my)):\n",
    "    barcodes_my_short[i] = barcodes_my[i][8:]"
   ]
  },
  {
   "cell_type": "code",
   "execution_count": null,
   "metadata": {},
   "outputs": [],
   "source": [
    "barcodes_orig = [barcode.split('_')[0] for barcode in k_t.obs.index]"
   ]
  },
  {
   "cell_type": "code",
   "execution_count": null,
   "metadata": {},
   "outputs": [],
   "source": [
    "len(barcodes_orig[0]) == len(barcodes_my_short[0])"
   ]
  },
  {
   "cell_type": "code",
   "execution_count": null,
   "metadata": {},
   "outputs": [],
   "source": [
    "count = 0\n",
    "overlap_barcodes = []\n",
    "\n",
    "for i in range(len(barcodes_orig)):\n",
    "    if  barcodes_orig[i] in barcodes_my_short:\n",
    "        overlap_barcodes.append(barcodes_orig[i])\n",
    "        count += 1\n",
    "        \n",
    "print(count)\n",
    "print(len(overlap_barcodes))"
   ]
  },
  {
   "cell_type": "code",
   "execution_count": null,
   "metadata": {},
   "outputs": [],
   "source": []
  },
  {
   "cell_type": "code",
   "execution_count": null,
   "metadata": {},
   "outputs": [],
   "source": []
  },
  {
   "cell_type": "code",
   "execution_count": null,
   "metadata": {},
   "outputs": [],
   "source": []
  },
  {
   "cell_type": "code",
   "execution_count": null,
   "metadata": {},
   "outputs": [],
   "source": [
    "barcodes_orig = [barcode.split('_')[0] for barcode in k_t.obs.index]"
   ]
  },
  {
   "cell_type": "code",
   "execution_count": null,
   "metadata": {},
   "outputs": [],
   "source": [
    "barcodes_my = [barcode.split('_')[0] for barcode in sp_frozen.obs.index]"
   ]
  },
  {
   "cell_type": "code",
   "execution_count": null,
   "metadata": {},
   "outputs": [],
   "source": [
    "bc1_path=\"/Users/manuel/OneDrive/SPLiT-seq/SPLiT-seq_suite/DGE_matrix_generation/metadata/barcodes_paper/bc1_isolated.txt\"\n",
    "bc1 = read_from_file(input_file=bc1_path, file_type=\"txt\")\n",
    "\n",
    "bc2_path=\"/Users/manuel/OneDrive/SPLiT-seq/SPLiT-seq_suite/DGE_matrix_generation/metadata/barcodes_paper/bc2_isolated.txt\"\n",
    "bc2 = read_from_file(input_file=bc2_path, file_type=\"txt\")\n",
    "\n",
    "bc3_path=\"/Users/manuel/OneDrive/SPLiT-seq/SPLiT-seq_suite/DGE_matrix_generation/metadata/barcodes_paper/bc3_isolated.txt\"\n",
    "bc3 = read_from_file(input_file=bc3_path, file_type=\"txt\")\n"
   ]
  },
  {
   "cell_type": "code",
   "execution_count": null,
   "metadata": {},
   "outputs": [],
   "source": [
    "barcodes_my_short = [\"\"]*len(barcodes_my)\n",
    "\n",
    "for i in range(len(barcodes_my)):\n",
    "    barcodes_my_short[i] = barcodes_my[i][8:]"
   ]
  },
  {
   "cell_type": "code",
   "execution_count": null,
   "metadata": {},
   "outputs": [],
   "source": [
    "# create list of overlapping barcodes\n",
    "\n",
    "count = 0\n",
    "overlap_barcodes = []\n",
    "\n",
    "for i in range(len(barcodes_orig)):\n",
    "    if  barcodes_orig[i] in barcodes_my_short:\n",
    "        overlap_barcodes.append(barcodes_orig[i])\n",
    "        count += 1\n",
    "        \n",
    "print(count)\n",
    "print(len(overlap_barcodes))"
   ]
  },
  {
   "cell_type": "markdown",
   "metadata": {},
   "source": [
    "- R2 and R3 barcodes are exactly the same\n",
    "- original data only uses R2+R3 barcodes as CBCs\n",
    "- 190 out of 203 of original data are in my data  \n",
    "    --> selection of cells should be good\n",
    "- CBCs in my dataset are overlapping (8468 of 54834 are unique)  \n",
    "    --> something went wrong during demultiplexing\n",
    "    |--> could be fixxed using dropseq-tools\n",
    "- more counts but less expressed genes compared to original data\n",
    "    --> UMI collapsing went wrong"
   ]
  },
  {
   "cell_type": "code",
   "execution_count": null,
   "metadata": {},
   "outputs": [],
   "source": [
    "overlap_barcodes"
   ]
  },
  {
   "cell_type": "code",
   "execution_count": null,
   "metadata": {},
   "outputs": [],
   "source": [
    "# create boolean list that indicates whether cell in my dataset belongs to the set\n",
    "# of overlapping barcodes\n",
    "\n",
    "overlap = [False]*len(barcodes_my_short)\n",
    "\n",
    "\n",
    "for i in range(len(barcodes_my_short)):\n",
    "    if barcodes_my_short[i] in overlap_barcodes:\n",
    "        overlap[i] = True"
   ]
  },
  {
   "cell_type": "code",
   "execution_count": null,
   "metadata": {},
   "outputs": [],
   "source": [
    "count = 0\n",
    "for i in overlap:\n",
    "    count += i\n",
    "    \n",
    "print(count)"
   ]
  },
  {
   "cell_type": "code",
   "execution_count": null,
   "metadata": {},
   "outputs": [],
   "source": []
  },
  {
   "cell_type": "code",
   "execution_count": null,
   "metadata": {},
   "outputs": [],
   "source": []
  },
  {
   "cell_type": "code",
   "execution_count": null,
   "metadata": {},
   "outputs": [],
   "source": []
  },
  {
   "cell_type": "code",
   "execution_count": null,
   "metadata": {},
   "outputs": [],
   "source": [
    "def get_unique_elements(l):\n",
    "    unique = []\n",
    "    for el in l:\n",
    "        if el not in unique:\n",
    "            unique.append(el)\n",
    "    return unique"
   ]
  },
  {
   "cell_type": "code",
   "execution_count": null,
   "metadata": {},
   "outputs": [],
   "source": [
    "def unique_elements(l):\n",
    "    unique = [True]*len(l)\n",
    "    for i in range(len(l)):\n",
    "        for k in range(len(l)):\n",
    "            if k != i:\n",
    "                if l[i] == l[k]:\n",
    "                    unique[i] = False\n",
    "    return unique\n",
    "        "
   ]
  },
  {
   "cell_type": "code",
   "execution_count": null,
   "metadata": {},
   "outputs": [],
   "source": [
    "def read_from_file(*args, **kwargs):\n",
    "    \"\"\"\n",
    "    This function can be used to read content of fastq, fasta and txt files into a list. This list is returned\n",
    "    by this function\n",
    "    :param args: this option is not used yet\n",
    "    :param kwargs: possible keyword arguments are:\n",
    "    input_file --> the full path to the file that should be imported including the full file name\n",
    "    input_dir --> the full path to the file that should be imported\n",
    "    input_filename --> the full file name of the file that should be imported\n",
    "    file_type --> the type of the file that should be imported\n",
    "    fastq_reads --> an option specifying that only reads should be implemented from the fastq file\n",
    "\n",
    "    :return:\n",
    "    \"\"\"\n",
    "    input_dir = ''\n",
    "    input_filename = ''\n",
    "    input_file = ''\n",
    "    input_list = []\n",
    "    input_dic = {}\n",
    "\n",
    "    if kwargs[\"input_file\"]:  # check if input_file has been supplied to the function\n",
    "        input_file = kwargs[\"input_file\"]\n",
    "    else:  # if no input file name has been supplied, look for the input directory and file name and concatenate\n",
    "        input_dir = kwargs[\"input_dir\"]\n",
    "        input_filename = kwargs[\"input_filename\"]\n",
    "        input_file = input_dir + \"/\" + input_filename\n",
    "\n",
    "    try:\n",
    "        handler = open(input_file)\n",
    "    except FileNotFoundError as exception:\n",
    "        print(\"file was not found!!\")\n",
    "        print(exception)\n",
    "    else:\n",
    "        # importing txt file\n",
    "        if kwargs[\"file_type\"] == \"txt\":\n",
    "            input_list = remove_newlinetag(handler.readlines())\n",
    "        # importing fasta file\n",
    "        elif kwargs[\"file_type\"] == \"fasta\":\n",
    "            input_list = remove_fasta_header(remove_newlinetag(handler.readlines()))\n",
    "        # importing fastq file\n",
    "        elif kwargs[\"file_type\"] == \"fastq_all\":\n",
    "            from Bio import SeqIO\n",
    "\n",
    "            for record in SeqIO.parse(input_file, \"fastq\"):\n",
    "                read_name = str(record.description)\n",
    "                read_seq = str(record.seq)\n",
    "                read_qual = record.letter_annotations[\"phred_quality\"]\n",
    "                input_list.append((read_name, read_seq, read_qual))\n",
    "\n",
    "        elif kwargs[\"file_type\"] == \"sam\":\n",
    "            \"\"\"\n",
    "            structure of returned sam list:\n",
    "            [ [AlignmentFile_object, query_name_number], [], ... ]\n",
    "            \"\"\"\n",
    "            sam = pysam.AlignmentFile(input_file, \"r\")\n",
    "            input_list = []\n",
    "            for query in sam.fetch():\n",
    "                # query_no = query.query_name.split(\".\")[1]\n",
    "                input_list.append([query, query.query_name])\n",
    "\n",
    "    return input_list"
   ]
  },
  {
   "cell_type": "code",
   "execution_count": null,
   "metadata": {},
   "outputs": [],
   "source": [
    "def remove_newlinetag(some_list):\n",
    "    some_list_newlineremoved = []\n",
    "    for entry in some_list:\n",
    "        some_list_newlineremoved.append(entry.rstrip())\n",
    "\n",
    "    return some_list_newlineremoved"
   ]
  },
  {
   "cell_type": "code",
   "execution_count": null,
   "metadata": {},
   "outputs": [],
   "source": [
    "def remove_fasta_header(some_list):\n",
    "    return some_list[1:]"
   ]
  },
  {
   "cell_type": "code",
   "execution_count": null,
   "metadata": {},
   "outputs": [],
   "source": []
  },
  {
   "cell_type": "code",
   "execution_count": null,
   "metadata": {},
   "outputs": [],
   "source": []
  },
  {
   "cell_type": "code",
   "execution_count": null,
   "metadata": {},
   "outputs": [],
   "source": []
  },
  {
   "cell_type": "code",
   "execution_count": null,
   "metadata": {},
   "outputs": [],
   "source": [
    "path = \"/Users/manuel/Downloads/GSM3017264_frozen_preserved_cells_nuclei_1000_UBCs.mat\"\n",
    "\n",
    "matrx = spio.loadmat(path)\n",
    "\n",
    "print(matrx['barcodes'][0])\n",
    "print(len(matrx['barcodes'][0]) - 3)"
   ]
  }
 ],
 "metadata": {
  "kernelspec": {
   "display_name": "Python [conda env:scanpy_env] *",
   "language": "python",
   "name": "conda-env-scanpy_env-py"
  },
  "language_info": {
   "codemirror_mode": {
    "name": "ipython",
    "version": 3
   },
   "file_extension": ".py",
   "mimetype": "text/x-python",
   "name": "python",
   "nbconvert_exporter": "python",
   "pygments_lexer": "ipython3",
   "version": "3.7.5"
  }
 },
 "nbformat": 4,
 "nbformat_minor": 2
}
