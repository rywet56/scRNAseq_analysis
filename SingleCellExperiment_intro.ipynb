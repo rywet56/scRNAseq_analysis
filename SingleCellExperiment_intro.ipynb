{
 "cells": [
  {
   "cell_type": "code",
   "execution_count": 11,
   "metadata": {
    "collapsed": true
   },
   "outputs": [
    {
     "name": "stderr",
     "output_type": "stream",
     "text": [
      "Updating HTML index of packages in '.Library'\n",
      "Making 'packages.html' ... done\n"
     ]
    }
   ],
   "source": [
    "install.packages(\"BiocManager\")"
   ]
  },
  {
   "cell_type": "code",
   "execution_count": null,
   "metadata": {},
   "outputs": [],
   "source": [
    "BiocManager::install('SingleCellExperiment')\n",
    "BiocManager::install('BiocGenerics')\n",
    "BiocManager::install(c('scater', 'scran', 'uwot'))\n",
    "BiocManager::install(c('Rtsne'))"
   ]
  },
  {
   "cell_type": "code",
   "execution_count": 2,
   "metadata": {},
   "outputs": [],
   "source": [
    "library(BiocGenerics)"
   ]
  },
  {
   "cell_type": "code",
   "execution_count": 3,
   "metadata": {},
   "outputs": [],
   "source": [
    "library(parallel)"
   ]
  },
  {
   "cell_type": "code",
   "execution_count": 5,
   "metadata": {},
   "outputs": [],
   "source": [
    "library(GenomicRanges)"
   ]
  },
  {
   "cell_type": "code",
   "execution_count": 6,
   "metadata": {},
   "outputs": [],
   "source": [
    "library(stats4)"
   ]
  },
  {
   "cell_type": "code",
   "execution_count": 7,
   "metadata": {},
   "outputs": [],
   "source": [
    "library(SummarizedExperiment)"
   ]
  },
  {
   "cell_type": "code",
   "execution_count": 10,
   "metadata": {},
   "outputs": [],
   "source": [
    "library(SingleCellExperiment)"
   ]
  },
  {
   "cell_type": "code",
   "execution_count": 11,
   "metadata": {},
   "outputs": [],
   "source": [
    "library(scater)"
   ]
  },
  {
   "cell_type": "code",
   "execution_count": 12,
   "metadata": {},
   "outputs": [],
   "source": [
    "library(scran)"
   ]
  },
  {
   "cell_type": "code",
   "execution_count": 13,
   "metadata": {
    "collapsed": true
   },
   "outputs": [
    {
     "name": "stderr",
     "output_type": "stream",
     "text": [
      "Loading required package: Matrix\n",
      "\n",
      "Attaching package: ‘Matrix’\n",
      "\n",
      "The following object is masked from ‘package:S4Vectors’:\n",
      "\n",
      "    expand\n",
      "\n"
     ]
    }
   ],
   "source": [
    "library(uwot)"
   ]
  },
  {
   "cell_type": "code",
   "execution_count": 14,
   "metadata": {},
   "outputs": [],
   "source": [
    "library(Rtsne)"
   ]
  },
  {
   "cell_type": "markdown",
   "metadata": {},
   "source": [
    "# 1) The SingleCellExperiment class\n",
    "This class contains different slots. Those slots are called:\n",
    "- **assays** (count matrix)\n",
    "- **colData** (cells)\n",
    "- **rowData** (genes)\n",
    "- **sizeFactors** (normalization factors)\n",
    "- **reduceDims** (results of PCA etc.)\n",
    "- **metadata** (other results)  \n",
    "- **spikeNames** (ERCC)\n",
    "\n",
    "The **assays** and **reduceDim** slots can contain several layers. That means they can contain data of the same dimension but with other values.\n",
    "<p align=\"center\">\n",
    " <img src=\"https://osca.bioconductor.org/images/SingleCellExperiment.png\" width=\"600\">\n",
    "</p>  \n"
   ]
  },
  {
   "cell_type": "markdown",
   "metadata": {},
   "source": [
    "# 2) Create an SCE object\n",
    "### Create count matrix\n",
    "First we create a data.frame and specify column and row names.  \n",
    "We then transform it into a matrix, which is the required data type for the core of the SCE object.  \n"
   ]
  },
  {
   "cell_type": "code",
   "execution_count": 24,
   "metadata": {},
   "outputs": [],
   "source": [
    "counts_matrix <- data.frame(cell_1 = rpois(10, 10), \n",
    "                            cell_2 = rpois(10, 10), \n",
    "                            cell_3 = rpois(10, 30))\n",
    "rownames(counts_matrix) <- paste0(\"gene_\", 1:10)\n",
    "counts_matrix <- as.matrix(counts_matrix) # must be a matrix object!"
   ]
  },
  {
   "cell_type": "markdown",
   "metadata": {},
   "source": [
    "### Instatiate the SCE object\n",
    "We could have added more contens in the list command like so  \n",
    "`list(counts = count_matrix, log_counts = log_count_matrix)`  \n",
    "in order to attach multiple levels to the assays slot of our SCE object."
   ]
  },
  {
   "cell_type": "code",
   "execution_count": null,
   "metadata": {},
   "outputs": [],
   "source": [
    "sce <- SingleCellExperiment(assays = list(counts = counts_matrix))"
   ]
  },
  {
   "cell_type": "markdown",
   "metadata": {},
   "source": [
    "Some list exercicse to understand how we created the SCE object.  "
   ]
  },
  {
   "cell_type": "code",
   "execution_count": 3,
   "metadata": {
    "collapsed": true
   },
   "outputs": [
    {
     "data": {
      "text/html": [
       "9"
      ],
      "text/latex": [
       "9"
      ],
      "text/markdown": [
       "9"
      ],
      "text/plain": [
       "[1] 9"
      ]
     },
     "metadata": {},
     "output_type": "display_data"
    }
   ],
   "source": [
    "lis = list(counts = counts_matrix)\n",
    "lis$counts[1, 1]"
   ]
  },
  {
   "cell_type": "markdown",
   "metadata": {},
   "source": [
    "# 3) SCE slots\n",
    "## Count matrix (assays)\n",
    "In the slot called \"assays\" one can save different kinds of count matrices. You can save one that cotains the raw data, another one that is log transformed etc."
   ]
  },
  {
   "cell_type": "code",
   "execution_count": 37,
   "metadata": {
    "collapsed": true
   },
   "outputs": [
    {
     "data": {
      "text/plain": [
       "List of length 2\n",
       "names(2): counts logcounts"
      ]
     },
     "metadata": {},
     "output_type": "display_data"
    },
    {
     "data": {
      "text/html": [
       "<table>\n",
       "<caption>A matrix: 10 × 3 of type int</caption>\n",
       "<thead>\n",
       "\t<tr><th></th><th scope=col>cell_1</th><th scope=col>cell_2</th><th scope=col>cell_3</th></tr>\n",
       "</thead>\n",
       "<tbody>\n",
       "\t<tr><th scope=row>gene_1</th><td> 7</td><td>11</td><td>32</td></tr>\n",
       "\t<tr><th scope=row>gene_2</th><td>15</td><td> 9</td><td>26</td></tr>\n",
       "\t<tr><th scope=row>gene_3</th><td>14</td><td> 5</td><td>27</td></tr>\n",
       "\t<tr><th scope=row>gene_4</th><td>12</td><td> 9</td><td>23</td></tr>\n",
       "\t<tr><th scope=row>gene_5</th><td> 6</td><td> 9</td><td>33</td></tr>\n",
       "\t<tr><th scope=row>gene_6</th><td>16</td><td>12</td><td>24</td></tr>\n",
       "\t<tr><th scope=row>gene_7</th><td>13</td><td> 7</td><td>27</td></tr>\n",
       "\t<tr><th scope=row>gene_8</th><td>10</td><td> 9</td><td>29</td></tr>\n",
       "\t<tr><th scope=row>gene_9</th><td>12</td><td> 7</td><td>34</td></tr>\n",
       "\t<tr><th scope=row>gene_10</th><td>14</td><td>14</td><td>28</td></tr>\n",
       "</tbody>\n",
       "</table>\n"
      ],
      "text/latex": [
       "A matrix: 10 × 3 of type int\n",
       "\\begin{tabular}{r|lll}\n",
       "  & cell\\_1 & cell\\_2 & cell\\_3\\\\\n",
       "\\hline\n",
       "\tgene\\_1 &  7 & 11 & 32\\\\\n",
       "\tgene\\_2 & 15 &  9 & 26\\\\\n",
       "\tgene\\_3 & 14 &  5 & 27\\\\\n",
       "\tgene\\_4 & 12 &  9 & 23\\\\\n",
       "\tgene\\_5 &  6 &  9 & 33\\\\\n",
       "\tgene\\_6 & 16 & 12 & 24\\\\\n",
       "\tgene\\_7 & 13 &  7 & 27\\\\\n",
       "\tgene\\_8 & 10 &  9 & 29\\\\\n",
       "\tgene\\_9 & 12 &  7 & 34\\\\\n",
       "\tgene\\_10 & 14 & 14 & 28\\\\\n",
       "\\end{tabular}\n"
      ],
      "text/markdown": [
       "\n",
       "A matrix: 10 × 3 of type int\n",
       "\n",
       "| <!--/--> | cell_1 | cell_2 | cell_3 |\n",
       "|---|---|---|---|\n",
       "| gene_1 |  7 | 11 | 32 |\n",
       "| gene_2 | 15 |  9 | 26 |\n",
       "| gene_3 | 14 |  5 | 27 |\n",
       "| gene_4 | 12 |  9 | 23 |\n",
       "| gene_5 |  6 |  9 | 33 |\n",
       "| gene_6 | 16 | 12 | 24 |\n",
       "| gene_7 | 13 |  7 | 27 |\n",
       "| gene_8 | 10 |  9 | 29 |\n",
       "| gene_9 | 12 |  7 | 34 |\n",
       "| gene_10 | 14 | 14 | 28 |\n",
       "\n"
      ],
      "text/plain": [
       "        cell_1 cell_2 cell_3\n",
       "gene_1   7     11     32    \n",
       "gene_2  15      9     26    \n",
       "gene_3  14      5     27    \n",
       "gene_4  12      9     23    \n",
       "gene_5   6      9     33    \n",
       "gene_6  16     12     24    \n",
       "gene_7  13      7     27    \n",
       "gene_8  10      9     29    \n",
       "gene_9  12      7     34    \n",
       "gene_10 14     14     28    "
      ]
     },
     "metadata": {},
     "output_type": "display_data"
    },
    {
     "data": {
      "text/html": [
       "26"
      ],
      "text/latex": [
       "26"
      ],
      "text/markdown": [
       "26"
      ],
      "text/plain": [
       "[1] 26"
      ]
     },
     "metadata": {},
     "output_type": "display_data"
    }
   ],
   "source": [
    "# Look at all existing assays\n",
    "assays(sce)\n",
    "# Access the assay called \"counts\"\n",
    "assay(sce, \"counts\")\n",
    "# Access specific values of count matrix\n",
    "assay(sce, \"counts\")[2,3]\n"
   ]
  },
  {
   "cell_type": "markdown",
   "metadata": {},
   "source": [
    "Let's add another layer to our assays slot and then trye to access it. We do this with a built in function that normalized and automatically adds the normalized count matrix as another layer."
   ]
  },
  {
   "cell_type": "code",
   "execution_count": 34,
   "metadata": {
    "collapsed": true
   },
   "outputs": [
    {
     "name": "stderr",
     "output_type": "stream",
     "text": [
      "Warning message in .local(object, ...):\n",
      "“using library sizes as size factors”Warning message:\n",
      "“'centreSizeFactors' is deprecated.\n",
      "See help(\"Deprecated\")”"
     ]
    },
    {
     "data": {
      "text/plain": [
       "List of length 1\n",
       "names(1): counts"
      ]
     },
     "metadata": {},
     "output_type": "display_data"
    }
   ],
   "source": [
    "# Save our old SCE object in a new one and add another layer to the slot assays\n",
    "sce_new = sce\n",
    "sce_new = scran::computeSumFactors(sce_new)\n",
    "sce_new = scater::normalize(sce_new)\n",
    "# Look at all existing assays\n",
    "assays(sce_new)"
   ]
  },
  {
   "cell_type": "markdown",
   "metadata": {},
   "source": [
    "We can also add another layer to assays manually. To demonstrate that we add 100 to every entry in the layer \"counts\" of the assays slot in sce and assign it to counts_100. We then add this layer manually to our new SCE object called sce_new_2."
   ]
  },
  {
   "cell_type": "code",
   "execution_count": 36,
   "metadata": {
    "collapsed": true
   },
   "outputs": [
    {
     "data": {
      "text/plain": [
       "List of length 3\n",
       "names(3): counts logcounts counts_100"
      ]
     },
     "metadata": {},
     "output_type": "display_data"
    }
   ],
   "source": [
    "sce_new_2 = sce\n",
    "counts_100 <- assay(sce, \"counts\") + 100\n",
    "assay(sce_new_2, \"counts_100\") <- counts_100\n",
    "assays(sce_new_2)"
   ]
  },
  {
   "cell_type": "markdown",
   "metadata": {},
   "source": [
    "## Cells (colData)"
   ]
  },
  {
   "cell_type": "markdown",
   "metadata": {},
   "source": [
    "We can add information about the cells such as batch number or cell id."
   ]
  },
  {
   "cell_type": "code",
   "execution_count": 45,
   "metadata": {
    "collapsed": true
   },
   "outputs": [
    {
     "data": {
      "text/plain": [
       "DataFrame with 3 rows and 2 columns\n",
       "           batch   cell_id\n",
       "       <numeric> <numeric>\n",
       "cell_1         1        23\n",
       "cell_2         1        45\n",
       "cell_3         2        21"
      ]
     },
     "metadata": {},
     "output_type": "display_data"
    }
   ],
   "source": [
    "# Create a data.frame object with two variable that we can attach to our SCE object\n",
    "cell_metadata <- data.frame(batch = c(1, 1, 2))\n",
    "rownames(cell_metadata) <- paste0(\"cell_\", 1:3)\n",
    "cell_metadata$\"cell_id\" = c(23, 45, 21)\n",
    "\n",
    "# Add the data.frame object to our colData slot\n",
    "colData(sce_new_2) = DataFrame(cell_metadata)\n",
    "colData(sce_new_2)"
   ]
  },
  {
   "cell_type": "code",
   "execution_count": 47,
   "metadata": {},
   "outputs": [
    {
     "data": {
      "text/html": [
       "23"
      ],
      "text/latex": [
       "23"
      ],
      "text/markdown": [
       "23"
      ],
      "text/plain": [
       "[1] 23"
      ]
     },
     "metadata": {},
     "output_type": "display_data"
    }
   ],
   "source": [
    "# Access elements in colData\n",
    "colData(sce_new_2)[1,2]"
   ]
  },
  {
   "cell_type": "markdown",
   "metadata": {},
   "source": [
    "## Genes (rowData)\n",
    "We can also add annotations to our genes. The simplest way to do that is to just calculate some qc metric as is shown below. But you can also add columns to this slot manually."
   ]
  },
  {
   "cell_type": "code",
   "execution_count": 54,
   "metadata": {
    "collapsed": true
   },
   "outputs": [
    {
     "name": "stderr",
     "output_type": "stream",
     "text": [
      "Warning message:\n",
      "“'calculateQCMetrics' is deprecated.\n",
      "Use 'perCellQCMetrics' or 'perFeatureQCMetrics' instead.”"
     ]
    },
    {
     "data": {
      "text/html": [
       "<ol class=list-inline>\n",
       "\t<li>'is_feature_control'</li>\n",
       "\t<li>'mean_counts'</li>\n",
       "\t<li>'log10_mean_counts'</li>\n",
       "\t<li>'n_cells_by_counts'</li>\n",
       "\t<li>'pct_dropout_by_counts'</li>\n",
       "\t<li>'total_counts'</li>\n",
       "\t<li>'log10_total_counts'</li>\n",
       "</ol>\n"
      ],
      "text/latex": [
       "\\begin{enumerate*}\n",
       "\\item 'is\\_feature\\_control'\n",
       "\\item 'mean\\_counts'\n",
       "\\item 'log10\\_mean\\_counts'\n",
       "\\item 'n\\_cells\\_by\\_counts'\n",
       "\\item 'pct\\_dropout\\_by\\_counts'\n",
       "\\item 'total\\_counts'\n",
       "\\item 'log10\\_total\\_counts'\n",
       "\\end{enumerate*}\n"
      ],
      "text/markdown": [
       "1. 'is_feature_control'\n",
       "2. 'mean_counts'\n",
       "3. 'log10_mean_counts'\n",
       "4. 'n_cells_by_counts'\n",
       "5. 'pct_dropout_by_counts'\n",
       "6. 'total_counts'\n",
       "7. 'log10_total_counts'\n",
       "\n",
       "\n"
      ],
      "text/plain": [
       "[1] \"is_feature_control\"    \"mean_counts\"           \"log10_mean_counts\"    \n",
       "[4] \"n_cells_by_counts\"     \"pct_dropout_by_counts\" \"total_counts\"         \n",
       "[7] \"log10_total_counts\"   "
      ]
     },
     "metadata": {},
     "output_type": "display_data"
    },
    {
     "data": {
      "text/plain": [
       "DataFrame with 10 rows and 2 columns\n",
       "             mean_counts n_cells_by_counts\n",
       "               <numeric>         <integer>\n",
       "gene_1  16.6666666666667                 3\n",
       "gene_2  16.6666666666667                 3\n",
       "gene_3  15.3333333333333                 3\n",
       "gene_4  14.6666666666667                 3\n",
       "gene_5                16                 3\n",
       "gene_6  17.3333333333333                 3\n",
       "gene_7  15.6666666666667                 3\n",
       "gene_8                16                 3\n",
       "gene_9  17.6666666666667                 3\n",
       "gene_10 18.6666666666667                 3"
      ]
     },
     "metadata": {},
     "output_type": "display_data"
    }
   ],
   "source": [
    "sce_new_2 <- scater::calculateQCMetrics(sce_new_2)\n",
    "colnames(rowData(sce_new_2))\n",
    "rowData(sce_new_2)[,c(\"mean_counts\",\"n_cells_by_counts\")]"
   ]
  },
  {
   "cell_type": "markdown",
   "metadata": {},
   "source": [
    "## (EXTRA) Subsetting using colData and rowData\n",
    "We can use both colData and rowData to subset our count matrix."
   ]
  },
  {
   "cell_type": "code",
   "execution_count": 57,
   "metadata": {
    "collapsed": true
   },
   "outputs": [
    {
     "data": {
      "text/html": [
       "<table>\n",
       "<caption>A matrix: 10 × 2 of type dbl</caption>\n",
       "<thead>\n",
       "\t<tr><th></th><th scope=col>cell_1</th><th scope=col>cell_3</th></tr>\n",
       "</thead>\n",
       "<tbody>\n",
       "\t<tr><th scope=row>gene_1</th><td>107</td><td>132</td></tr>\n",
       "\t<tr><th scope=row>gene_2</th><td>115</td><td>126</td></tr>\n",
       "\t<tr><th scope=row>gene_3</th><td>114</td><td>127</td></tr>\n",
       "\t<tr><th scope=row>gene_4</th><td>112</td><td>123</td></tr>\n",
       "\t<tr><th scope=row>gene_5</th><td>106</td><td>133</td></tr>\n",
       "\t<tr><th scope=row>gene_6</th><td>116</td><td>124</td></tr>\n",
       "\t<tr><th scope=row>gene_7</th><td>113</td><td>127</td></tr>\n",
       "\t<tr><th scope=row>gene_8</th><td>110</td><td>129</td></tr>\n",
       "\t<tr><th scope=row>gene_9</th><td>112</td><td>134</td></tr>\n",
       "\t<tr><th scope=row>gene_10</th><td>114</td><td>128</td></tr>\n",
       "</tbody>\n",
       "</table>\n"
      ],
      "text/latex": [
       "A matrix: 10 × 2 of type dbl\n",
       "\\begin{tabular}{r|ll}\n",
       "  & cell\\_1 & cell\\_3\\\\\n",
       "\\hline\n",
       "\tgene\\_1 & 107 & 132\\\\\n",
       "\tgene\\_2 & 115 & 126\\\\\n",
       "\tgene\\_3 & 114 & 127\\\\\n",
       "\tgene\\_4 & 112 & 123\\\\\n",
       "\tgene\\_5 & 106 & 133\\\\\n",
       "\tgene\\_6 & 116 & 124\\\\\n",
       "\tgene\\_7 & 113 & 127\\\\\n",
       "\tgene\\_8 & 110 & 129\\\\\n",
       "\tgene\\_9 & 112 & 134\\\\\n",
       "\tgene\\_10 & 114 & 128\\\\\n",
       "\\end{tabular}\n"
      ],
      "text/markdown": [
       "\n",
       "A matrix: 10 × 2 of type dbl\n",
       "\n",
       "| <!--/--> | cell_1 | cell_3 |\n",
       "|---|---|---|\n",
       "| gene_1 | 107 | 132 |\n",
       "| gene_2 | 115 | 126 |\n",
       "| gene_3 | 114 | 127 |\n",
       "| gene_4 | 112 | 123 |\n",
       "| gene_5 | 106 | 133 |\n",
       "| gene_6 | 116 | 124 |\n",
       "| gene_7 | 113 | 127 |\n",
       "| gene_8 | 110 | 129 |\n",
       "| gene_9 | 112 | 134 |\n",
       "| gene_10 | 114 | 128 |\n",
       "\n"
      ],
      "text/plain": [
       "        cell_1 cell_3\n",
       "gene_1  107    132   \n",
       "gene_2  115    126   \n",
       "gene_3  114    127   \n",
       "gene_4  112    123   \n",
       "gene_5  106    133   \n",
       "gene_6  116    124   \n",
       "gene_7  113    127   \n",
       "gene_8  110    129   \n",
       "gene_9  112    134   \n",
       "gene_10 114    128   "
      ]
     },
     "metadata": {},
     "output_type": "display_data"
    },
    {
     "data": {
      "text/html": [
       "<table>\n",
       "<caption>A matrix: 3 × 3 of type dbl</caption>\n",
       "<thead>\n",
       "\t<tr><th></th><th scope=col>cell_1</th><th scope=col>cell_2</th><th scope=col>cell_3</th></tr>\n",
       "</thead>\n",
       "<tbody>\n",
       "\t<tr><th scope=row>gene_3</th><td>114</td><td>105</td><td>127</td></tr>\n",
       "\t<tr><th scope=row>gene_4</th><td>112</td><td>109</td><td>123</td></tr>\n",
       "\t<tr><th scope=row>gene_7</th><td>113</td><td>107</td><td>127</td></tr>\n",
       "</tbody>\n",
       "</table>\n"
      ],
      "text/latex": [
       "A matrix: 3 × 3 of type dbl\n",
       "\\begin{tabular}{r|lll}\n",
       "  & cell\\_1 & cell\\_2 & cell\\_3\\\\\n",
       "\\hline\n",
       "\tgene\\_3 & 114 & 105 & 127\\\\\n",
       "\tgene\\_4 & 112 & 109 & 123\\\\\n",
       "\tgene\\_7 & 113 & 107 & 127\\\\\n",
       "\\end{tabular}\n"
      ],
      "text/markdown": [
       "\n",
       "A matrix: 3 × 3 of type dbl\n",
       "\n",
       "| <!--/--> | cell_1 | cell_2 | cell_3 |\n",
       "|---|---|---|---|\n",
       "| gene_3 | 114 | 105 | 127 |\n",
       "| gene_4 | 112 | 109 | 123 |\n",
       "| gene_7 | 113 | 107 | 127 |\n",
       "\n"
      ],
      "text/plain": [
       "       cell_1 cell_2 cell_3\n",
       "gene_3 114    105    127   \n",
       "gene_4 112    109    123   \n",
       "gene_7 113    107    127   "
      ]
     },
     "metadata": {},
     "output_type": "display_data"
    }
   ],
   "source": [
    "# Subset count matrix data with row Data\n",
    "assay(sce_new_2, 'counts_100')[, colData(sce_new_2)$cell_id < 40]\n",
    "\n",
    "# Subset count matrix data with column Data\n",
    "assay(sce_new_2, 'counts_100')[rowData(sce_new_2)$mean_counts < 16,]"
   ]
  },
  {
   "cell_type": "markdown",
   "metadata": {},
   "source": [
    "## SizeFactors\n",
    "This is another slot, next to assays, rowData and colData. This slot is calculated when calling the functions below (as has been done at the very beginning). The data.frame in this slot ocntains information on normalization factors that was used to produce normalized data."
   ]
  },
  {
   "cell_type": "code",
   "execution_count": null,
   "metadata": {},
   "outputs": [],
   "source": [
    "sce_new_2 <- scran::computeSumFactors(sce)\n",
    "sce_new_2 <- scater::normalize(sce)"
   ]
  },
  {
   "cell_type": "code",
   "execution_count": 59,
   "metadata": {},
   "outputs": [
    {
     "data": {
      "text/html": [
       "<dl class=dl-horizontal>\n",
       "\t<dt>cell_1</dt>\n",
       "\t\t<dd>0.722672064777328</dd>\n",
       "\t<dt>cell_2</dt>\n",
       "\t\t<dd>0.558704453441296</dd>\n",
       "\t<dt>cell_3</dt>\n",
       "\t\t<dd>1.71862348178138</dd>\n",
       "</dl>\n"
      ],
      "text/latex": [
       "\\begin{description*}\n",
       "\\item[cell\\textbackslash{}\\_1] 0.722672064777328\n",
       "\\item[cell\\textbackslash{}\\_2] 0.558704453441296\n",
       "\\item[cell\\textbackslash{}\\_3] 1.71862348178138\n",
       "\\end{description*}\n"
      ],
      "text/markdown": [
       "cell_1\n",
       ":   0.722672064777328cell_2\n",
       ":   0.558704453441296cell_3\n",
       ":   1.71862348178138\n",
       "\n"
      ],
      "text/plain": [
       "   cell_1    cell_2    cell_3 \n",
       "0.7226721 0.5587045 1.7186235 "
      ]
     },
     "metadata": {},
     "output_type": "display_data"
    }
   ],
   "source": [
    "sizeFactors(sce_new_2)"
   ]
  },
  {
   "cell_type": "markdown",
   "metadata": {},
   "source": [
    "## reduceDims\n",
    "This is another slot that is very useful to store results of PCA, tSNE, UMAP etc."
   ]
  },
  {
   "cell_type": "code",
   "execution_count": 81,
   "metadata": {
    "collapsed": true
   },
   "outputs": [
    {
     "name": "stderr",
     "output_type": "stream",
     "text": [
      "Warning message in check_numbers(k = k, nu = nu, nv = nv, limit = min(dim(x)) - :\n",
      "“more singular values/vectors requested than available”Warning message in (function (A, nv = 5, nu = nv, maxit = 1000, work = nv + 7, reorth = TRUE, :\n",
      "“You're computing too large a percentage of total singular values, use a standard svd instead.”"
     ]
    },
    {
     "data": {
      "text/html": [
       "<table>\n",
       "<caption>A matrix: 3 × 2 of type dbl</caption>\n",
       "<thead>\n",
       "\t<tr><th></th><th scope=col>PC1</th><th scope=col>PC2</th></tr>\n",
       "</thead>\n",
       "<tbody>\n",
       "\t<tr><th scope=row>cell_1</th><td>-1.0982660</td><td>-0.1074447</td></tr>\n",
       "\t<tr><th scope=row>cell_2</th><td> 0.6811321</td><td>-0.6167531</td></tr>\n",
       "\t<tr><th scope=row>cell_3</th><td> 0.4171339</td><td> 0.7241978</td></tr>\n",
       "</tbody>\n",
       "</table>\n"
      ],
      "text/latex": [
       "A matrix: 3 × 2 of type dbl\n",
       "\\begin{tabular}{r|ll}\n",
       "  & PC1 & PC2\\\\\n",
       "\\hline\n",
       "\tcell\\_1 & -1.0982660 & -0.1074447\\\\\n",
       "\tcell\\_2 &  0.6811321 & -0.6167531\\\\\n",
       "\tcell\\_3 &  0.4171339 &  0.7241978\\\\\n",
       "\\end{tabular}\n"
      ],
      "text/markdown": [
       "\n",
       "A matrix: 3 × 2 of type dbl\n",
       "\n",
       "| <!--/--> | PC1 | PC2 |\n",
       "|---|---|---|\n",
       "| cell_1 | -1.0982660 | -0.1074447 |\n",
       "| cell_2 |  0.6811321 | -0.6167531 |\n",
       "| cell_3 |  0.4171339 |  0.7241978 |\n",
       "\n"
      ],
      "text/plain": [
       "       PC1        PC2       \n",
       "cell_1 -1.0982660 -0.1074447\n",
       "cell_2  0.6811321 -0.6167531\n",
       "cell_3  0.4171339  0.7241978"
      ]
     },
     "metadata": {},
     "output_type": "display_data"
    },
    {
     "name": "stdout",
     "output_type": "stream",
     "text": [
      "Perplexity should be lower than K!\n"
     ]
    },
    {
     "data": {
      "text/html": [
       "<table>\n",
       "<caption>A matrix: 3 × 2 of type dbl</caption>\n",
       "<tbody>\n",
       "\t<tr><th scope=row>cell_1</th><td>-1639.265</td><td> 5454.288</td></tr>\n",
       "\t<tr><th scope=row>cell_2</th><td>-3889.309</td><td>-4179.526</td></tr>\n",
       "\t<tr><th scope=row>cell_3</th><td> 5528.575</td><td>-1274.762</td></tr>\n",
       "</tbody>\n",
       "</table>\n"
      ],
      "text/latex": [
       "A matrix: 3 × 2 of type dbl\n",
       "\\begin{tabular}{r|ll}\n",
       "\tcell\\_1 & -1639.265 &  5454.288\\\\\n",
       "\tcell\\_2 & -3889.309 & -4179.526\\\\\n",
       "\tcell\\_3 &  5528.575 & -1274.762\\\\\n",
       "\\end{tabular}\n"
      ],
      "text/markdown": [
       "\n",
       "A matrix: 3 × 2 of type dbl\n",
       "\n",
       "| cell_1 | -1639.265 |  5454.288 |\n",
       "| cell_2 | -3889.309 | -4179.526 |\n",
       "| cell_3 |  5528.575 | -1274.762 |\n",
       "\n"
      ],
      "text/plain": [
       "       [,1]      [,2]     \n",
       "cell_1 -1639.265  5454.288\n",
       "cell_2 -3889.309 -4179.526\n",
       "cell_3  5528.575 -1274.762"
      ]
     },
     "metadata": {},
     "output_type": "display_data"
    },
    {
     "data": {
      "text/plain": [
       "List of length 2\n",
       "names(2): PCA TSNE"
      ]
     },
     "metadata": {},
     "output_type": "display_data"
    }
   ],
   "source": [
    "# do PCA\n",
    "sce <- scater::runPCA(sce)\n",
    "reducedDim(sce, \"PCA\")\n",
    "\n",
    "# do tSNE\n",
    "sce <- scater::runTSNE(sce, perplexity = 0.1)\n",
    "reducedDim(sce, \"TSNE\")\n",
    "\n",
    "# show all reduced dimenisons of our count matrix\n",
    "reducedDims(sce)"
   ]
  },
  {
   "cell_type": "markdown",
   "metadata": {},
   "source": [
    "We may want to add a new layer in the slot \"reduceDims\" manually. This makes sense when we want to run a dimensionlity reduction algorithm that is not yet implemented directly with the SCE class. This is possible and straightforward as shown below.  \n",
    "Below the function `umap()` from the package `uwot` is run directly as opposed to through the scater package (which would be `scater::runUMAP()`)."
   ]
  },
  {
   "cell_type": "code",
   "execution_count": 83,
   "metadata": {
    "collapsed": true
   },
   "outputs": [
    {
     "data": {
      "text/html": [
       "<table>\n",
       "<caption>A matrix: 3 × 2 of type dbl</caption>\n",
       "<tbody>\n",
       "\t<tr><th scope=row>cell_1</th><td>-0.6426075</td><td>-0.1031802</td></tr>\n",
       "\t<tr><th scope=row>cell_2</th><td> 0.4711351</td><td> 0.4533947</td></tr>\n",
       "\t<tr><th scope=row>cell_3</th><td> 0.1714724</td><td>-0.3502145</td></tr>\n",
       "</tbody>\n",
       "</table>\n"
      ],
      "text/latex": [
       "A matrix: 3 × 2 of type dbl\n",
       "\\begin{tabular}{r|ll}\n",
       "\tcell\\_1 & -0.6426075 & -0.1031802\\\\\n",
       "\tcell\\_2 &  0.4711351 &  0.4533947\\\\\n",
       "\tcell\\_3 &  0.1714724 & -0.3502145\\\\\n",
       "\\end{tabular}\n"
      ],
      "text/markdown": [
       "\n",
       "A matrix: 3 × 2 of type dbl\n",
       "\n",
       "| cell_1 | -0.6426075 | -0.1031802 |\n",
       "| cell_2 |  0.4711351 |  0.4533947 |\n",
       "| cell_3 |  0.1714724 | -0.3502145 |\n",
       "\n"
      ],
      "text/plain": [
       "       [,1]       [,2]      \n",
       "cell_1 -0.6426075 -0.1031802\n",
       "cell_2  0.4711351  0.4533947\n",
       "cell_3  0.1714724 -0.3502145"
      ]
     },
     "metadata": {},
     "output_type": "display_data"
    },
    {
     "data": {
      "text/plain": [
       "List of length 3\n",
       "names(3): PCA TSNE UMAP_uwot"
      ]
     },
     "metadata": {},
     "output_type": "display_data"
    }
   ],
   "source": [
    "u <- uwot::umap(t(logcounts(sce)), n_neighbors = 2)\n",
    "reducedDim(sce, \"UMAP_uwot\") <- u\n",
    "\n",
    "reducedDim(sce, \"UMAP_uwot\")\n",
    "reducedDims(sce)"
   ]
  },
  {
   "cell_type": "markdown",
   "metadata": {},
   "source": [
    "## metadata\n",
    "During the analysis of scRNA-seq data, we may produce some data that does not fit into any other slot conceptually. But there is another slot called \"metadata\" where we can put this kind of data to.  \n",
    "You can put anything there. This slot is basically a list, where each list entry corresponds to an object. This object can be a vector, a table or a whole big data frame or matrix."
   ]
  },
  {
   "cell_type": "code",
   "execution_count": 109,
   "metadata": {
    "collapsed": true
   },
   "outputs": [
    {
     "data": {
      "text/html": [
       "<dl>\n",
       "\t<dt>$favorite_genes</dt>\n",
       "\t\t<dd><ol class=list-inline>\n",
       "\t<li>'gene_1'</li>\n",
       "\t<li>'gene_5'</li>\n",
       "</ol>\n",
       "</dd>\n",
       "\t<dt>$mygenes</dt>\n",
       "\t\t<dd><ol class=list-inline>\n",
       "\t<li>'gene_1'</li>\n",
       "\t<li>'gene_5'</li>\n",
       "</ol>\n",
       "</dd>\n",
       "\t<dt>$his_genes</dt>\n",
       "\t\t<dd><ol>\n",
       "\t<li><ol class=list-inline>\n",
       "\t<li>'ggg'</li>\n",
       "\t<li>'hh'</li>\n",
       "</ol>\n",
       "</li>\n",
       "\t<li><ol class=list-inline>\n",
       "\t<li>'jj'</li>\n",
       "\t<li>'oo'</li>\n",
       "</ol>\n",
       "</li>\n",
       "</ol>\n",
       "</dd>\n",
       "\t<dt>$my_list</dt>\n",
       "\t\t<dd><table>\n",
       "<caption>A data.frame: 3 × 2</caption>\n",
       "<thead>\n",
       "\t<tr><th></th><th scope=col>age</th><th scope=col>birth_place</th></tr>\n",
       "\t<tr><th></th><th scope=col>&lt;dbl&gt;</th><th scope=col>&lt;fct&gt;</th></tr>\n",
       "</thead>\n",
       "<tbody>\n",
       "\t<tr><th scope=row>hans</th><td>23</td><td>lauf        </td></tr>\n",
       "\t<tr><th scope=row>robert</th><td>56</td><td>stadeln     </td></tr>\n",
       "\t<tr><th scope=row>ludwig</th><td>12</td><td>obetrtrubach</td></tr>\n",
       "</tbody>\n",
       "</table>\n",
       "</dd>\n",
       "</dl>\n"
      ],
      "text/latex": [
       "\\begin{description}\n",
       "\\item[\\$favorite\\_genes] \\begin{enumerate*}\n",
       "\\item 'gene\\_1'\n",
       "\\item 'gene\\_5'\n",
       "\\end{enumerate*}\n",
       "\n",
       "\\item[\\$mygenes] \\begin{enumerate*}\n",
       "\\item 'gene\\_1'\n",
       "\\item 'gene\\_5'\n",
       "\\end{enumerate*}\n",
       "\n",
       "\\item[\\$his\\_genes] \\begin{enumerate}\n",
       "\\item \\begin{enumerate*}\n",
       "\\item 'ggg'\n",
       "\\item 'hh'\n",
       "\\end{enumerate*}\n",
       "\n",
       "\\item \\begin{enumerate*}\n",
       "\\item 'jj'\n",
       "\\item 'oo'\n",
       "\\end{enumerate*}\n",
       "\n",
       "\\end{enumerate}\n",
       "\n",
       "\\item[\\$my\\_list] A data.frame: 3 × 2\n",
       "\\begin{tabular}{r|ll}\n",
       "  & age & birth\\_place\\\\\n",
       "  & <dbl> & <fct>\\\\\n",
       "\\hline\n",
       "\thans & 23 & lauf        \\\\\n",
       "\trobert & 56 & stadeln     \\\\\n",
       "\tludwig & 12 & obetrtrubach\\\\\n",
       "\\end{tabular}\n",
       "\n",
       "\\end{description}\n"
      ],
      "text/markdown": [
       "$favorite_genes\n",
       ":   1. 'gene_1'\n",
       "2. 'gene_5'\n",
       "\n",
       "\n",
       "\n",
       "$mygenes\n",
       ":   1. 'gene_1'\n",
       "2. 'gene_5'\n",
       "\n",
       "\n",
       "\n",
       "$his_genes\n",
       ":   1. 1. 'ggg'\n",
       "2. 'hh'\n",
       "\n",
       "\n",
       "\n",
       "2. 1. 'jj'\n",
       "2. 'oo'\n",
       "\n",
       "\n",
       "\n",
       "\n",
       "\n",
       "\n",
       "$my_list\n",
       ":   \n",
       "A data.frame: 3 × 2\n",
       "\n",
       "| <!--/--> | age &lt;dbl&gt; | birth_place &lt;fct&gt; |\n",
       "|---|---|---|\n",
       "| hans | 23 | lauf         |\n",
       "| robert | 56 | stadeln      |\n",
       "| ludwig | 12 | obetrtrubach |\n",
       "\n",
       "\n",
       "\n",
       "\n"
      ],
      "text/plain": [
       "$favorite_genes\n",
       "[1] \"gene_1\" \"gene_5\"\n",
       "\n",
       "$mygenes\n",
       "[1] \"gene_1\" \"gene_5\"\n",
       "\n",
       "$his_genes\n",
       "$his_genes[[1]]\n",
       "[1] \"ggg\" \"hh\" \n",
       "\n",
       "$his_genes[[2]]\n",
       "[1] \"jj\" \"oo\"\n",
       "\n",
       "\n",
       "$my_list\n",
       "       age  birth_place\n",
       "hans    23         lauf\n",
       "robert  56      stadeln\n",
       "ludwig  12 obetrtrubach\n"
      ]
     },
     "metadata": {},
     "output_type": "display_data"
    }
   ],
   "source": [
    "my_genes <- c(\"gene_1\", \"gene_5\")\n",
    "metadata(sce)$mygenes = c(\"gene_1\", \"gene_5\")\n",
    "metadata(sce)$his_genes = list(c(\"ggg\", \"hh\"), c(\"jj\", \"oo\"))\n",
    "\n",
    "# create some data.frame\n",
    "a_frame = data.frame(name=c(\"hans\", \"robert\", \"ludwig\"), age=c(23, 56, 12), birth_place=c(\"lauf\", \"stadeln\", \"obetrtrubach\"))\n",
    "rownames(a_frame) = a_frame[,\"name\"]\n",
    "a_frame = a_frame[,-1]\n",
    "\n",
    "# attach the data.frame to metadata\n",
    "metadata(sce)$my_list = a_frame\n",
    "\n",
    "metadata(sce)"
   ]
  },
  {
   "cell_type": "markdown",
   "metadata": {},
   "source": [
    "## spikeNames\n",
    "An interesitng tutorial for that can be found [here](https://bioconductor.org/packages/release/bioc/vignettes/SingleCellExperiment/inst/doc/intro.html)"
   ]
  }
 ],
 "metadata": {
  "kernelspec": {
   "display_name": "R",
   "language": "R",
   "name": "ir"
  },
  "language_info": {
   "codemirror_mode": "r",
   "file_extension": ".r",
   "mimetype": "text/x-r-source",
   "name": "R",
   "pygments_lexer": "r",
   "version": "3.6.1"
  }
 },
 "nbformat": 4,
 "nbformat_minor": 2
}
