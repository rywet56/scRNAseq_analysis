{
 "cells": [
  {
   "cell_type": "code",
   "execution_count": 1,
   "metadata": {},
   "outputs": [],
   "source": [
    "import scanpy as sc\n",
    "import numpy as np\n",
    "import matplotlib.pyplot as plt\n",
    "import scipy as sp\n",
    "from math import log\n",
    "import anndata as ad\n",
    "import pandas as pd"
   ]
  },
  {
   "cell_type": "markdown",
   "metadata": {},
   "source": [
    "## frozen_perserved_UBCS_200\n",
    "#####################################################"
   ]
  },
  {
   "cell_type": "code",
   "execution_count": null,
   "metadata": {},
   "outputs": [],
   "source": [
    "input_file = \"/Users/manuel/Desktop/bowtie_strategy/complete_dge_matrix/expression.h5ad\""
   ]
  },
  {
   "cell_type": "code",
   "execution_count": null,
   "metadata": {},
   "outputs": [],
   "source": [
    "sp_dge = sc.read(input_file)"
   ]
  },
  {
   "cell_type": "code",
   "execution_count": null,
   "metadata": {},
   "outputs": [],
   "source": [
    "sp_dge.obs['no_umis'] = np.sum(sp_dge.X, axis=1)"
   ]
  },
  {
   "cell_type": "code",
   "execution_count": null,
   "metadata": {},
   "outputs": [],
   "source": [
    "no_umis = sp_dge.obs['no_umis']"
   ]
  },
  {
   "cell_type": "code",
   "execution_count": null,
   "metadata": {},
   "outputs": [],
   "source": [
    "no_umis_log10 = []\n",
    "for x in no_umis:\n",
    "    if x != 0:\n",
    "        no_umis_log10.append(log(x,10))\n",
    "    else:\n",
    "        no_umis_log10.append(x)"
   ]
  },
  {
   "cell_type": "code",
   "execution_count": null,
   "metadata": {},
   "outputs": [],
   "source": [
    "bins = []\n",
    "i = 0\n",
    "while i <= 7:\n",
    "    bins.append(i)\n",
    "    i += 0.1"
   ]
  },
  {
   "cell_type": "code",
   "execution_count": null,
   "metadata": {
    "scrolled": true
   },
   "outputs": [],
   "source": [
    "plt.hist(no_umis_log10, bins=bins, histtype='bar', rwidth=0.5, align='left')\n",
    "plt.yscale('log')"
   ]
  },
  {
   "cell_type": "code",
   "execution_count": null,
   "metadata": {},
   "outputs": [],
   "source": [
    "lower_lim = sp_dge.obs['no_umis'] > 5000\n",
    "upper_lim = sp_dge.obs['no_umis'] < 100000\n",
    "sp_dge.obs['keep'] = lower_lim & upper_lim"
   ]
  },
  {
   "cell_type": "markdown",
   "metadata": {},
   "source": [
    "## dge_matrix_umi_d2\n",
    "#####################################################"
   ]
  },
  {
   "cell_type": "code",
   "execution_count": 2,
   "metadata": {},
   "outputs": [],
   "source": [
    "input_file = \"/Volumes/win_mac/dge_matrix_umid2/dge_matrix_umid2.h5ad\"\n",
    "sp_dge_d2 = sc.read(input_file)"
   ]
  },
  {
   "cell_type": "code",
   "execution_count": 3,
   "metadata": {},
   "outputs": [
    {
     "data": {
      "text/plain": [
       "AnnData object with n_obs × n_vars = 442172 × 23004 "
      ]
     },
     "execution_count": 3,
     "metadata": {},
     "output_type": "execute_result"
    }
   ],
   "source": [
    "sp_dge_d2"
   ]
  },
  {
   "cell_type": "code",
   "execution_count": 4,
   "metadata": {},
   "outputs": [
    {
     "name": "stderr",
     "output_type": "stream",
     "text": [
      "/Users/manuel/anaconda3/envs/scanpy_env/lib/python3.7/site-packages/scanpy/preprocessing/_qc.py:375: RuntimeWarning: divide by zero encountered in true_divide\n",
      "  return values / sums[:, None]\n",
      "/Users/manuel/anaconda3/envs/scanpy_env/lib/python3.7/site-packages/scanpy/preprocessing/_qc.py:375: RuntimeWarning: invalid value encountered in true_divide\n",
      "  return values / sums[:, None]\n"
     ]
    }
   ],
   "source": [
    "sc.pp.calculate_qc_metrics(sp_dge_d2, inplace=True)"
   ]
  },
  {
   "cell_type": "markdown",
   "metadata": {},
   "source": [
    "### save log normalized matrix"
   ]
  },
  {
   "cell_type": "code",
   "execution_count": 4,
   "metadata": {},
   "outputs": [
    {
     "name": "stdout",
     "output_type": "stream",
     "text": [
      "WARNING: Some cells have total count of genes equal to zero\n"
     ]
    }
   ],
   "source": [
    "sc.pp.normalize_total(sp_dge_d2, target_sum=1e4)"
   ]
  },
  {
   "cell_type": "code",
   "execution_count": 8,
   "metadata": {},
   "outputs": [],
   "source": [
    "sc.pp.log1p(sp_dge_d2)"
   ]
  },
  {
   "cell_type": "code",
   "execution_count": 9,
   "metadata": {},
   "outputs": [],
   "source": [
    "sc.pp.highly_variable_genes(sp_dge_d2, min_mean=0.0125, max_mean=3, min_disp=0.5)"
   ]
  },
  {
   "cell_type": "code",
   "execution_count": 11,
   "metadata": {},
   "outputs": [],
   "source": [
    "sp_dge_d2_hvg = sp_dge_d2[:, sp_dge_d2.var.highly_variable]"
   ]
  },
  {
   "cell_type": "code",
   "execution_count": 12,
   "metadata": {},
   "outputs": [],
   "source": [
    "output_file = \"/Volumes/win_mac/dge_matrix_umid2/dge_matrix_umid2_log_nom_hvgs.h5ad\"\n",
    "sp_dge_d2_hvg.write(output_file, compression='gzip')"
   ]
  },
  {
   "cell_type": "code",
   "execution_count": 14,
   "metadata": {},
   "outputs": [],
   "source": [
    "output_file = \"/Volumes/win_mac/dge_matrix_umid2/dge_matrix_umid2_log_nom.h5ad\"\n",
    "sp_dge_d2.write(output_file, compression='gzip')"
   ]
  },
  {
   "cell_type": "markdown",
   "metadata": {},
   "source": [
    "## ------------------------------"
   ]
  },
  {
   "cell_type": "markdown",
   "metadata": {},
   "source": [
    "### analysis of raw data"
   ]
  },
  {
   "cell_type": "code",
   "execution_count": 31,
   "metadata": {},
   "outputs": [
    {
     "data": {
      "image/png": "[encoded data removed]",
      "text/plain": [
       "<Figure size 432x288 with 1 Axes>"
      ]
     },
     "metadata": {
      "needs_background": "light"
     },
     "output_type": "display_data"
    }
   ],
   "source": [
    "plt.hist(sp_dge_d2.obs['total_counts'], 5000, histtype='bar', rwidth=0.5, align='left')\n",
    "# plt.yscale('log')\n",
    "plt.xscale('log')"
   ]
  },
  {
   "cell_type": "code",
   "execution_count": 9,
   "metadata": {
    "collapsed": true
   },
   "outputs": [
    {
     "data": {
      "image/png": "[encoded data removed]",
      "text/plain": [
       "<Figure size 432x288 with 1 Axes>"
      ]
     },
     "metadata": {
      "needs_background": "light"
     },
     "output_type": "display_data"
    }
   ],
   "source": [
    "plt.hist(sp_dge_d2.obs['total_counts'], histtype='bar', rwidth=0.5, align='left')\n",
    "plt.yscale('log')\n",
    "plt.xscale('log')"
   ]
  },
  {
   "cell_type": "code",
   "execution_count": 39,
   "metadata": {},
   "outputs": [
    {
     "name": "stdout",
     "output_type": "stream",
     "text": [
      "329345\n",
      "329345\n"
     ]
    }
   ],
   "source": [
    "lower_lim = sp_dge_d2.obs['total_counts'] > 50\n",
    "# upper_lim = sp_dge_d2.obs['total_counts'] < 5000\n",
    "\n",
    "print(np.sum(lower_lim))\n",
    "# print(np.sum(upper_lim))\n",
    "\n",
    "sp_dge_d2.obs['keep'] = lower_lim\n",
    "print(np.sum(sp_dge_d2.obs['keep']))"
   ]
  },
  {
   "cell_type": "code",
   "execution_count": 40,
   "metadata": {},
   "outputs": [],
   "source": [
    "yy = sp_dge_d2[sp_dge_d2.obs['keep'] == True,]"
   ]
  },
  {
   "cell_type": "code",
   "execution_count": 41,
   "metadata": {},
   "outputs": [
    {
     "data": {
      "image/png": "[encoded data removed]",
      "text/plain": [
       "<Figure size 432x288 with 1 Axes>"
      ]
     },
     "metadata": {
      "needs_background": "light"
     },
     "output_type": "display_data"
    }
   ],
   "source": [
    "plt.hist(yy.obs['total_counts'], 5000, histtype='bar', rwidth=0.5, align='left')\n",
    "plt.xscale('log')"
   ]
  },
  {
   "cell_type": "code",
   "execution_count": 35,
   "metadata": {},
   "outputs": [
    {
     "data": {
      "image/png": "[encoded data removed]",
      "text/plain": [
       "<Figure size 432x288 with 1 Axes>"
      ]
     },
     "metadata": {
      "needs_background": "light"
     },
     "output_type": "display_data"
    }
   ],
   "source": [
    "# for --> lower_lim = sp_dge_d2.obs['total_counts'] > 900\n",
    "plt.hist(yy.obs['total_counts'], 5000, histtype='bar', rwidth=0.5, align='left')\n",
    "# plt.yscale('log')\n",
    "plt.xscale('log')"
   ]
  },
  {
   "cell_type": "code",
   "execution_count": 19,
   "metadata": {},
   "outputs": [],
   "source": [
    "output_file = \"/Volumes/win_mac/dge_matrix_umid2/dge_matrix_umid2_presel.h5ad\"\n",
    "yy.write(output_file, compression='gzip')"
   ]
  },
  {
   "cell_type": "code",
   "execution_count": 26,
   "metadata": {},
   "outputs": [
    {
     "name": "stderr",
     "output_type": "stream",
     "text": [
      "/Users/manuel/anaconda3/envs/scanpy_env/lib/python3.7/site-packages/scanpy/preprocessing/_qc.py:375: RuntimeWarning: divide by zero encountered in true_divide\n",
      "  return values / sums[:, None]\n",
      "/Users/manuel/anaconda3/envs/scanpy_env/lib/python3.7/site-packages/scanpy/preprocessing/_qc.py:375: RuntimeWarning: invalid value encountered in true_divide\n",
      "  return values / sums[:, None]\n"
     ]
    }
   ],
   "source": [
    "sc.pp.calculate_qc_metrics(sp_dge_d2, inplace=True)"
   ]
  },
  {
   "cell_type": "code",
   "execution_count": 29,
   "metadata": {},
   "outputs": [],
   "source": [
    "sc.tl.pca(sp_dge_d2_hvg, svd_solver='arpack')"
   ]
  },
  {
   "cell_type": "code",
   "execution_count": 32,
   "metadata": {},
   "outputs": [
    {
     "data": {
      "image/png": "[encoded data removed]",
      "text/plain": [
       "<Figure size 432x288 with 1 Axes>"
      ]
     },
     "metadata": {},
     "output_type": "display_data"
    }
   ],
   "source": [
    "sc.pl.pca(sp_dge_d2_hvg)"
   ]
  },
  {
   "cell_type": "code",
   "execution_count": 34,
   "metadata": {},
   "outputs": [
    {
     "data": {
      "image/png": "[encoded data removed]",
      "text/plain": [
       "<Figure size 432x288 with 1 Axes>"
      ]
     },
     "metadata": {
      "needs_background": "light"
     },
     "output_type": "display_data"
    }
   ],
   "source": [
    "plt.hist(sp_dge_d2.obs['total_counts'], 5000, histtype='bar', rwidth=0.5, align='left')\n",
    "plt.xscale('log')"
   ]
  },
  {
   "cell_type": "code",
   "execution_count": null,
   "metadata": {},
   "outputs": [],
   "source": []
  },
  {
   "cell_type": "code",
   "execution_count": null,
   "metadata": {},
   "outputs": [],
   "source": []
  },
  {
   "cell_type": "markdown",
   "metadata": {},
   "source": [
    "## dge_matrix_umi_d1\n",
    "#####################################################"
   ]
  },
  {
   "cell_type": "code",
   "execution_count": 4,
   "metadata": {},
   "outputs": [],
   "source": [
    "input_file = \"/Volumes/win_mac/dge_matrix_umid1/dge_matrix_umid1.h5ad\""
   ]
  },
  {
   "cell_type": "code",
   "execution_count": 5,
   "metadata": {},
   "outputs": [],
   "source": [
    "sp_dge_d1 = sc.read(input_file)"
   ]
  },
  {
   "cell_type": "code",
   "execution_count": null,
   "metadata": {},
   "outputs": [],
   "source": [
    "sc.pp.calculate_qc_metrics(sp_dge_d1, inplace=True)"
   ]
  },
  {
   "cell_type": "code",
   "execution_count": null,
   "metadata": {},
   "outputs": [],
   "source": [
    "sp_dge_d1.obs['no_umis'] = np.sum(sp_dge_d1.X, axis=1)"
   ]
  },
  {
   "cell_type": "code",
   "execution_count": null,
   "metadata": {},
   "outputs": [],
   "source": [
    "no_umis = sp_dge_d1.obs['no_umis']"
   ]
  },
  {
   "cell_type": "code",
   "execution_count": null,
   "metadata": {},
   "outputs": [],
   "source": [
    "no_umis_log10 = []\n",
    "for x in no_umis:\n",
    "    if x != 0:\n",
    "        no_umis_log10.append(log(x,10))\n",
    "    else:\n",
    "        no_umis_log10.append(x)"
   ]
  },
  {
   "cell_type": "code",
   "execution_count": null,
   "metadata": {},
   "outputs": [],
   "source": [
    "sp_dge_d1.obs['no_umis_log10'] = no_umis_log10"
   ]
  },
  {
   "cell_type": "code",
   "execution_count": null,
   "metadata": {},
   "outputs": [],
   "source": [
    "sp_dge_d1.obs"
   ]
  },
  {
   "cell_type": "code",
   "execution_count": null,
   "metadata": {},
   "outputs": [],
   "source": [
    "bins = []\n",
    "i = 0\n",
    "while i <= 20000:\n",
    "    bins.append(i)\n",
    "    i += 250"
   ]
  },
  {
   "cell_type": "code",
   "execution_count": null,
   "metadata": {},
   "outputs": [],
   "source": [
    "plt.hist(no_umis, bins=bins, histtype='bar', rwidth=0.5, align='left')\n",
    "plt.yscale('log')"
   ]
  },
  {
   "cell_type": "code",
   "execution_count": null,
   "metadata": {},
   "outputs": [],
   "source": [
    "plt.hist(no_umis_log10, histtype='bar', rwidth=0.5, align='left')\n",
    "plt.yscale('log')\n",
    "plt.axvline(1)"
   ]
  },
  {
   "cell_type": "code",
   "execution_count": null,
   "metadata": {},
   "outputs": [],
   "source": [
    "lower_lim = sp_dge_d1.obs['no_umis'] > 330\n",
    "upper_lim = sp_dge_d1.obs['no_umis'] < 10000\n",
    "sp_dge_d1.obs['keep'] = lower_lim & upper_lim"
   ]
  },
  {
   "cell_type": "code",
   "execution_count": null,
   "metadata": {},
   "outputs": [],
   "source": [
    "sum(sp_dge_d1.obs[\"keep\"])"
   ]
  },
  {
   "cell_type": "markdown",
   "metadata": {},
   "source": [
    "### take subset of cells"
   ]
  },
  {
   "cell_type": "code",
   "execution_count": null,
   "metadata": {},
   "outputs": [],
   "source": [
    "yy = sp_dge_d1[sp_dge_d1.obs['keep'] == True,]"
   ]
  },
  {
   "cell_type": "code",
   "execution_count": null,
   "metadata": {
    "scrolled": false
   },
   "outputs": [],
   "source": [
    "plt.hist(yy.obs['no_umis_log10'], histtype='bar', rwidth=0.5, align='left')\n",
    "plt.yscale('log')"
   ]
  },
  {
   "cell_type": "code",
   "execution_count": null,
   "metadata": {},
   "outputs": [],
   "source": [
    "yy.obs['no_umis'].sum()"
   ]
  },
  {
   "cell_type": "markdown",
   "metadata": {},
   "source": [
    "### save subset of cells"
   ]
  },
  {
   "cell_type": "code",
   "execution_count": null,
   "metadata": {},
   "outputs": [],
   "source": [
    "output_file = \"/Volumes/win_mac/dge_matrix_umid1/dge_matrix_umid1_presel.h5ad\"\n",
    "yy.write(output_file, compression='gzip')"
   ]
  },
  {
   "cell_type": "markdown",
   "metadata": {},
   "source": [
    "# dge_matrix_umid0\n",
    "#####################################################"
   ]
  },
  {
   "cell_type": "code",
   "execution_count": 16,
   "metadata": {},
   "outputs": [],
   "source": [
    "input_file = \"/Volumes/win_mac/dge_matrix_umid0/dge_matrix_umid0.h5ad\"\n",
    "sp_dge = sc.read(input_file)"
   ]
  },
  {
   "cell_type": "code",
   "execution_count": 15,
   "metadata": {
    "collapsed": true
   },
   "outputs": [
    {
     "name": "stderr",
     "output_type": "stream",
     "text": [
      "/Users/manuel/anaconda3/envs/scanpy_env/lib/python3.7/site-packages/ipykernel_launcher.py:1: FutureWarning: read_table is deprecated, use read_csv instead.\n",
      "  \"\"\"Entry point for launching an IPython kernel.\n"
     ]
    }
   ],
   "source": [
    "table = pd.read_table('/Volumes/win_mac/dge_matrix_umid0/cluster_statistics_umisd0.txt', delimiter='\\t')"
   ]
  },
  {
   "cell_type": "code",
   "execution_count": 13,
   "metadata": {
    "collapsed": true
   },
   "outputs": [
    {
     "name": "stderr",
     "output_type": "stream",
     "text": [
      "/Users/manuel/anaconda3/envs/scanpy_env/lib/python3.7/site-packages/scanpy/preprocessing/_qc.py:375: RuntimeWarning: divide by zero encountered in true_divide\n",
      "  return values / sums[:, None]\n",
      "/Users/manuel/anaconda3/envs/scanpy_env/lib/python3.7/site-packages/scanpy/preprocessing/_qc.py:375: RuntimeWarning: invalid value encountered in true_divide\n",
      "  return values / sums[:, None]\n"
     ]
    }
   ],
   "source": [
    "sc.pp.calculate_qc_metrics(sp_dge, inplace=True)"
   ]
  },
  {
   "cell_type": "code",
   "execution_count": 29,
   "metadata": {},
   "outputs": [],
   "source": [
    "sp_dge.obs['no_umis'] = pd.Series.to_list(table['umis'])"
   ]
  },
  {
   "cell_type": "code",
   "execution_count": 30,
   "metadata": {
    "collapsed": true
   },
   "outputs": [
    {
     "data": {
      "text/html": [
       "<div>\n",
       "<style scoped>\n",
       "    .dataframe tbody tr th:only-of-type {\n",
       "        vertical-align: middle;\n",
       "    }\n",
       "\n",
       "    .dataframe tbody tr th {\n",
       "        vertical-align: top;\n",
       "    }\n",
       "\n",
       "    .dataframe thead th {\n",
       "        text-align: right;\n",
       "    }\n",
       "</style>\n",
       "<table border=\"1\" class=\"dataframe\">\n",
       "  <thead>\n",
       "    <tr style=\"text-align: right;\">\n",
       "      <th></th>\n",
       "      <th>no_umis</th>\n",
       "      <th>n_genes_by_counts</th>\n",
       "      <th>log1p_n_genes_by_counts</th>\n",
       "      <th>total_counts</th>\n",
       "      <th>log1p_total_counts</th>\n",
       "      <th>pct_counts_in_top_50_genes</th>\n",
       "      <th>pct_counts_in_top_100_genes</th>\n",
       "      <th>pct_counts_in_top_200_genes</th>\n",
       "      <th>pct_counts_in_top_500_genes</th>\n",
       "    </tr>\n",
       "    <tr>\n",
       "      <th>index</th>\n",
       "      <th></th>\n",
       "      <th></th>\n",
       "      <th></th>\n",
       "      <th></th>\n",
       "      <th></th>\n",
       "      <th></th>\n",
       "      <th></th>\n",
       "      <th></th>\n",
       "      <th></th>\n",
       "    </tr>\n",
       "  </thead>\n",
       "  <tbody>\n",
       "    <tr>\n",
       "      <th>CTGAGCCACACTTCGAATTGAGGA</th>\n",
       "      <td>490252</td>\n",
       "      <td>12834</td>\n",
       "      <td>9.459931</td>\n",
       "      <td>311398.0</td>\n",
       "      <td>12.648830</td>\n",
       "      <td>17.714308</td>\n",
       "      <td>25.373638</td>\n",
       "      <td>34.393606</td>\n",
       "      <td>48.517653</td>\n",
       "    </tr>\n",
       "    <tr>\n",
       "      <th>CATCAAGTCGCATACAAGTACAAG</th>\n",
       "      <td>391968</td>\n",
       "      <td>12208</td>\n",
       "      <td>9.409929</td>\n",
       "      <td>239063.0</td>\n",
       "      <td>12.384486</td>\n",
       "      <td>17.861819</td>\n",
       "      <td>25.533437</td>\n",
       "      <td>34.654463</td>\n",
       "      <td>48.869127</td>\n",
       "    </tr>\n",
       "    <tr>\n",
       "      <th>CTGAGCCACACTTCGAAGCACCTC</th>\n",
       "      <td>303367</td>\n",
       "      <td>11639</td>\n",
       "      <td>9.362203</td>\n",
       "      <td>193188.0</td>\n",
       "      <td>12.171424</td>\n",
       "      <td>17.768184</td>\n",
       "      <td>25.261403</td>\n",
       "      <td>34.364453</td>\n",
       "      <td>48.811520</td>\n",
       "    </tr>\n",
       "    <tr>\n",
       "      <th>AACAACCACGACACACAGTACAAG</th>\n",
       "      <td>298302</td>\n",
       "      <td>11579</td>\n",
       "      <td>9.357035</td>\n",
       "      <td>190904.0</td>\n",
       "      <td>12.159532</td>\n",
       "      <td>17.819428</td>\n",
       "      <td>25.465679</td>\n",
       "      <td>34.577065</td>\n",
       "      <td>48.857541</td>\n",
       "    </tr>\n",
       "    <tr>\n",
       "      <th>ACACAGAATCTTCACAATCCTGTA</th>\n",
       "      <td>206398</td>\n",
       "      <td>10364</td>\n",
       "      <td>9.246190</td>\n",
       "      <td>121476.0</td>\n",
       "      <td>11.707480</td>\n",
       "      <td>18.037308</td>\n",
       "      <td>25.690671</td>\n",
       "      <td>34.886727</td>\n",
       "      <td>49.315914</td>\n",
       "    </tr>\n",
       "    <tr>\n",
       "      <th>AACAACCAATCCTGTACACTTCGA</th>\n",
       "      <td>203858</td>\n",
       "      <td>10693</td>\n",
       "      <td>9.277438</td>\n",
       "      <td>137794.0</td>\n",
       "      <td>11.833523</td>\n",
       "      <td>17.971755</td>\n",
       "      <td>25.641175</td>\n",
       "      <td>34.810659</td>\n",
       "      <td>49.031888</td>\n",
       "    </tr>\n",
       "    <tr>\n",
       "      <th>ATCCTGTACCTCTATCACCACTGT</th>\n",
       "      <td>193217</td>\n",
       "      <td>10301</td>\n",
       "      <td>9.240093</td>\n",
       "      <td>119664.0</td>\n",
       "      <td>11.692451</td>\n",
       "      <td>17.913491</td>\n",
       "      <td>25.533160</td>\n",
       "      <td>34.772363</td>\n",
       "      <td>49.038140</td>\n",
       "    </tr>\n",
       "    <tr>\n",
       "      <th>GACTAGTATCCGTCTACATCAAGT</th>\n",
       "      <td>188941</td>\n",
       "      <td>10082</td>\n",
       "      <td>9.218606</td>\n",
       "      <td>111204.0</td>\n",
       "      <td>11.619131</td>\n",
       "      <td>17.806014</td>\n",
       "      <td>25.528758</td>\n",
       "      <td>34.674112</td>\n",
       "      <td>49.130427</td>\n",
       "    </tr>\n",
       "    <tr>\n",
       "      <th>AGTCACTATGGTGGTAACGTATCA</th>\n",
       "      <td>188918</td>\n",
       "      <td>10465</td>\n",
       "      <td>9.255887</td>\n",
       "      <td>128810.0</td>\n",
       "      <td>11.766102</td>\n",
       "      <td>17.948141</td>\n",
       "      <td>25.407965</td>\n",
       "      <td>34.618430</td>\n",
       "      <td>48.977564</td>\n",
       "    </tr>\n",
       "    <tr>\n",
       "      <th>CTGAGCCAAGTGGTCAATTGAGGA</th>\n",
       "      <td>188714</td>\n",
       "      <td>10203</td>\n",
       "      <td>9.230535</td>\n",
       "      <td>112223.0</td>\n",
       "      <td>11.628252</td>\n",
       "      <td>17.791362</td>\n",
       "      <td>25.390517</td>\n",
       "      <td>34.566889</td>\n",
       "      <td>48.924908</td>\n",
       "    </tr>\n",
       "    <tr>\n",
       "      <th>ACCACTGTCATACCAACACTTCGA</th>\n",
       "      <td>187737</td>\n",
       "      <td>10329</td>\n",
       "      <td>9.242808</td>\n",
       "      <td>117163.0</td>\n",
       "      <td>11.671329</td>\n",
       "      <td>17.746217</td>\n",
       "      <td>25.514881</td>\n",
       "      <td>34.596246</td>\n",
       "      <td>49.019742</td>\n",
       "    </tr>\n",
       "    <tr>\n",
       "      <th>ATCCTGTAAGAGTCAAACCACTGT</th>\n",
       "      <td>185752</td>\n",
       "      <td>10554</td>\n",
       "      <td>9.264355</td>\n",
       "      <td>124150.0</td>\n",
       "      <td>11.729254</td>\n",
       "      <td>17.594845</td>\n",
       "      <td>25.093838</td>\n",
       "      <td>34.089408</td>\n",
       "      <td>48.484897</td>\n",
       "    </tr>\n",
       "    <tr>\n",
       "      <th>ACAGCAGACCTCTATCACAAGCTA</th>\n",
       "      <td>185251</td>\n",
       "      <td>10318</td>\n",
       "      <td>9.241742</td>\n",
       "      <td>119063.0</td>\n",
       "      <td>11.687416</td>\n",
       "      <td>17.698193</td>\n",
       "      <td>25.192545</td>\n",
       "      <td>34.164266</td>\n",
       "      <td>48.542368</td>\n",
       "    </tr>\n",
       "    <tr>\n",
       "      <th>AGTCACTAGAGCTGAACATCAAGT</th>\n",
       "      <td>182605</td>\n",
       "      <td>10172</td>\n",
       "      <td>9.227492</td>\n",
       "      <td>116864.0</td>\n",
       "      <td>11.668775</td>\n",
       "      <td>18.053464</td>\n",
       "      <td>25.753868</td>\n",
       "      <td>34.784022</td>\n",
       "      <td>49.217894</td>\n",
       "    </tr>\n",
       "    <tr>\n",
       "      <th>AAGACGGAGGAGAACACACTTCGA</th>\n",
       "      <td>182215</td>\n",
       "      <td>10142</td>\n",
       "      <td>9.224539</td>\n",
       "      <td>115146.0</td>\n",
       "      <td>11.653965</td>\n",
       "      <td>18.070102</td>\n",
       "      <td>25.536276</td>\n",
       "      <td>34.596078</td>\n",
       "      <td>48.946555</td>\n",
       "    </tr>\n",
       "    <tr>\n",
       "      <th>CGCTGATCAACAACCACAGATCTG</th>\n",
       "      <td>172397</td>\n",
       "      <td>10251</td>\n",
       "      <td>9.235228</td>\n",
       "      <td>117791.0</td>\n",
       "      <td>11.676676</td>\n",
       "      <td>17.871484</td>\n",
       "      <td>25.477328</td>\n",
       "      <td>34.746288</td>\n",
       "      <td>49.077604</td>\n",
       "    </tr>\n",
       "    <tr>\n",
       "      <th>CTGAGCCAATCCTGTACAGATCTG</th>\n",
       "      <td>171204</td>\n",
       "      <td>9917</td>\n",
       "      <td>9.202107</td>\n",
       "      <td>102930.0</td>\n",
       "      <td>11.541814</td>\n",
       "      <td>17.707180</td>\n",
       "      <td>25.310405</td>\n",
       "      <td>34.517633</td>\n",
       "      <td>48.805985</td>\n",
       "    </tr>\n",
       "    <tr>\n",
       "      <th>ACACAGAAAAGGACACACCACTGT</th>\n",
       "      <td>168581</td>\n",
       "      <td>9928</td>\n",
       "      <td>9.203215</td>\n",
       "      <td>107886.0</td>\n",
       "      <td>11.588840</td>\n",
       "      <td>18.269284</td>\n",
       "      <td>25.986690</td>\n",
       "      <td>35.325251</td>\n",
       "      <td>49.729344</td>\n",
       "    </tr>\n",
       "    <tr>\n",
       "      <th>ACACAGAACCTCCTGACCAGTTCA</th>\n",
       "      <td>168570</td>\n",
       "      <td>9873</td>\n",
       "      <td>9.197660</td>\n",
       "      <td>102436.0</td>\n",
       "      <td>11.537004</td>\n",
       "      <td>18.028818</td>\n",
       "      <td>25.598422</td>\n",
       "      <td>34.799289</td>\n",
       "      <td>49.216096</td>\n",
       "    </tr>\n",
       "    <tr>\n",
       "      <th>AGTCACTAACCTCCAACCAGTTCA</th>\n",
       "      <td>167775</td>\n",
       "      <td>9806</td>\n",
       "      <td>9.190852</td>\n",
       "      <td>102040.0</td>\n",
       "      <td>11.533130</td>\n",
       "      <td>17.955704</td>\n",
       "      <td>25.539984</td>\n",
       "      <td>34.852999</td>\n",
       "      <td>49.272834</td>\n",
       "    </tr>\n",
       "    <tr>\n",
       "      <th>ACCACTGTCGAACTTACATCAAGT</th>\n",
       "      <td>166274</td>\n",
       "      <td>9913</td>\n",
       "      <td>9.201703</td>\n",
       "      <td>104811.0</td>\n",
       "      <td>11.559923</td>\n",
       "      <td>18.130731</td>\n",
       "      <td>25.917127</td>\n",
       "      <td>35.094599</td>\n",
       "      <td>49.269638</td>\n",
       "    </tr>\n",
       "    <tr>\n",
       "      <th>ACGTATCAACGCTCGAATTGAGGA</th>\n",
       "      <td>159912</td>\n",
       "      <td>10059</td>\n",
       "      <td>9.216322</td>\n",
       "      <td>109078.0</td>\n",
       "      <td>11.599828</td>\n",
       "      <td>17.972460</td>\n",
       "      <td>25.687123</td>\n",
       "      <td>34.998808</td>\n",
       "      <td>49.376593</td>\n",
       "    </tr>\n",
       "    <tr>\n",
       "      <th>CTGAGCCAGAACAGGCCGAACTTA</th>\n",
       "      <td>158450</td>\n",
       "      <td>9996</td>\n",
       "      <td>9.210040</td>\n",
       "      <td>105497.0</td>\n",
       "      <td>11.566447</td>\n",
       "      <td>17.817568</td>\n",
       "      <td>25.464231</td>\n",
       "      <td>34.640795</td>\n",
       "      <td>49.044049</td>\n",
       "    </tr>\n",
       "    <tr>\n",
       "      <th>CTCAATGAAGAGTCAAATTGAGGA</th>\n",
       "      <td>156843</td>\n",
       "      <td>9615</td>\n",
       "      <td>9.171184</td>\n",
       "      <td>91819.0</td>\n",
       "      <td>11.427586</td>\n",
       "      <td>17.845980</td>\n",
       "      <td>25.429377</td>\n",
       "      <td>34.390486</td>\n",
       "      <td>48.723031</td>\n",
       "    </tr>\n",
       "    <tr>\n",
       "      <th>ACATTGGCCATACCAACCAGTTCA</th>\n",
       "      <td>146595</td>\n",
       "      <td>9592</td>\n",
       "      <td>9.168789</td>\n",
       "      <td>93190.0</td>\n",
       "      <td>11.442407</td>\n",
       "      <td>18.117824</td>\n",
       "      <td>25.776371</td>\n",
       "      <td>34.896448</td>\n",
       "      <td>49.267089</td>\n",
       "    </tr>\n",
       "    <tr>\n",
       "      <th>AACAACCAGAGCTGAATGGTGGTA</th>\n",
       "      <td>142580</td>\n",
       "      <td>9037</td>\n",
       "      <td>9.109193</td>\n",
       "      <td>75074.0</td>\n",
       "      <td>11.226243</td>\n",
       "      <td>18.074167</td>\n",
       "      <td>25.710632</td>\n",
       "      <td>34.776354</td>\n",
       "      <td>48.959693</td>\n",
       "    </tr>\n",
       "    <tr>\n",
       "      <th>AACAACCAATCCTGTAATCATTCC</th>\n",
       "      <td>140704</td>\n",
       "      <td>9691</td>\n",
       "      <td>9.179056</td>\n",
       "      <td>94907.0</td>\n",
       "      <td>11.460663</td>\n",
       "      <td>17.908057</td>\n",
       "      <td>25.518666</td>\n",
       "      <td>34.743486</td>\n",
       "      <td>49.051176</td>\n",
       "    </tr>\n",
       "    <tr>\n",
       "      <th>ACCACTGTCATACCAAATCATTCC</th>\n",
       "      <td>138862</td>\n",
       "      <td>9465</td>\n",
       "      <td>9.155462</td>\n",
       "      <td>86511.0</td>\n",
       "      <td>11.368038</td>\n",
       "      <td>17.874028</td>\n",
       "      <td>25.516986</td>\n",
       "      <td>34.573638</td>\n",
       "      <td>48.935973</td>\n",
       "    </tr>\n",
       "    <tr>\n",
       "      <th>CAACCACACCATCCTCACCTCCAA</th>\n",
       "      <td>137376</td>\n",
       "      <td>9266</td>\n",
       "      <td>9.134215</td>\n",
       "      <td>83079.0</td>\n",
       "      <td>11.327559</td>\n",
       "      <td>18.301857</td>\n",
       "      <td>26.045090</td>\n",
       "      <td>35.179769</td>\n",
       "      <td>49.489041</td>\n",
       "    </tr>\n",
       "    <tr>\n",
       "      <th>CGCTGATCAGTCACTAAGTACAAG</th>\n",
       "      <td>136872</td>\n",
       "      <td>9422</td>\n",
       "      <td>9.150909</td>\n",
       "      <td>86760.0</td>\n",
       "      <td>11.370913</td>\n",
       "      <td>17.926464</td>\n",
       "      <td>25.504841</td>\n",
       "      <td>34.659982</td>\n",
       "      <td>49.067543</td>\n",
       "    </tr>\n",
       "    <tr>\n",
       "      <th>...</th>\n",
       "      <td>...</td>\n",
       "      <td>...</td>\n",
       "      <td>...</td>\n",
       "      <td>...</td>\n",
       "      <td>...</td>\n",
       "      <td>...</td>\n",
       "      <td>...</td>\n",
       "      <td>...</td>\n",
       "      <td>...</td>\n",
       "    </tr>\n",
       "    <tr>\n",
       "      <th>CCGAAGTACGCTGATCGATGAATC</th>\n",
       "      <td>1</td>\n",
       "      <td>1</td>\n",
       "      <td>0.693147</td>\n",
       "      <td>1.0</td>\n",
       "      <td>0.693147</td>\n",
       "      <td>100.000000</td>\n",
       "      <td>100.000000</td>\n",
       "      <td>100.000000</td>\n",
       "      <td>100.000000</td>\n",
       "    </tr>\n",
       "    <tr>\n",
       "      <th>CCGAAGTACGCTGATCGTCTGTCA</th>\n",
       "      <td>1</td>\n",
       "      <td>1</td>\n",
       "      <td>0.693147</td>\n",
       "      <td>1.0</td>\n",
       "      <td>0.693147</td>\n",
       "      <td>100.000000</td>\n",
       "      <td>100.000000</td>\n",
       "      <td>100.000000</td>\n",
       "      <td>100.000000</td>\n",
       "    </tr>\n",
       "    <tr>\n",
       "      <th>CCGTGAGAACAAGCTAGCCACATA</th>\n",
       "      <td>1</td>\n",
       "      <td>1</td>\n",
       "      <td>0.693147</td>\n",
       "      <td>1.0</td>\n",
       "      <td>0.693147</td>\n",
       "      <td>100.000000</td>\n",
       "      <td>100.000000</td>\n",
       "      <td>100.000000</td>\n",
       "      <td>100.000000</td>\n",
       "    </tr>\n",
       "    <tr>\n",
       "      <th>CCGTGAGACGCTGATCATAGCGAC</th>\n",
       "      <td>1</td>\n",
       "      <td>1</td>\n",
       "      <td>0.693147</td>\n",
       "      <td>1.0</td>\n",
       "      <td>0.693147</td>\n",
       "      <td>100.000000</td>\n",
       "      <td>100.000000</td>\n",
       "      <td>100.000000</td>\n",
       "      <td>100.000000</td>\n",
       "    </tr>\n",
       "    <tr>\n",
       "      <th>CCGTGAGACGCTGATCCCGACAAC</th>\n",
       "      <td>1</td>\n",
       "      <td>1</td>\n",
       "      <td>0.693147</td>\n",
       "      <td>1.0</td>\n",
       "      <td>0.693147</td>\n",
       "      <td>100.000000</td>\n",
       "      <td>100.000000</td>\n",
       "      <td>100.000000</td>\n",
       "      <td>100.000000</td>\n",
       "    </tr>\n",
       "    <tr>\n",
       "      <th>CCGTGAGACGCTGATCGCGAGTAA</th>\n",
       "      <td>0</td>\n",
       "      <td>0</td>\n",
       "      <td>0.000000</td>\n",
       "      <td>0.0</td>\n",
       "      <td>0.000000</td>\n",
       "      <td>NaN</td>\n",
       "      <td>NaN</td>\n",
       "      <td>NaN</td>\n",
       "      <td>NaN</td>\n",
       "    </tr>\n",
       "    <tr>\n",
       "      <th>CCTCCTGAAGCACCTCGGTGCGAA</th>\n",
       "      <td>1</td>\n",
       "      <td>1</td>\n",
       "      <td>0.693147</td>\n",
       "      <td>1.0</td>\n",
       "      <td>0.693147</td>\n",
       "      <td>100.000000</td>\n",
       "      <td>100.000000</td>\n",
       "      <td>100.000000</td>\n",
       "      <td>100.000000</td>\n",
       "    </tr>\n",
       "    <tr>\n",
       "      <th>CCTCCTGACATCAAGTGCCACATA</th>\n",
       "      <td>1</td>\n",
       "      <td>1</td>\n",
       "      <td>0.693147</td>\n",
       "      <td>1.0</td>\n",
       "      <td>0.693147</td>\n",
       "      <td>100.000000</td>\n",
       "      <td>100.000000</td>\n",
       "      <td>100.000000</td>\n",
       "      <td>100.000000</td>\n",
       "    </tr>\n",
       "    <tr>\n",
       "      <th>CGAACTTAAACGTGATTCCGTCTA</th>\n",
       "      <td>0</td>\n",
       "      <td>0</td>\n",
       "      <td>0.000000</td>\n",
       "      <td>0.0</td>\n",
       "      <td>0.000000</td>\n",
       "      <td>NaN</td>\n",
       "      <td>NaN</td>\n",
       "      <td>NaN</td>\n",
       "      <td>NaN</td>\n",
       "    </tr>\n",
       "    <tr>\n",
       "      <th>CGAACTTACGCTGATCAAACATCG</th>\n",
       "      <td>0</td>\n",
       "      <td>0</td>\n",
       "      <td>0.000000</td>\n",
       "      <td>0.0</td>\n",
       "      <td>0.000000</td>\n",
       "      <td>NaN</td>\n",
       "      <td>NaN</td>\n",
       "      <td>NaN</td>\n",
       "      <td>NaN</td>\n",
       "    </tr>\n",
       "    <tr>\n",
       "      <th>CGACTGGACGCTGATCAGGCTAAC</th>\n",
       "      <td>1</td>\n",
       "      <td>1</td>\n",
       "      <td>0.693147</td>\n",
       "      <td>1.0</td>\n",
       "      <td>0.693147</td>\n",
       "      <td>100.000000</td>\n",
       "      <td>100.000000</td>\n",
       "      <td>100.000000</td>\n",
       "      <td>100.000000</td>\n",
       "    </tr>\n",
       "    <tr>\n",
       "      <th>CGACTGGACGCTGATCCTGTAGCC</th>\n",
       "      <td>1</td>\n",
       "      <td>1</td>\n",
       "      <td>0.693147</td>\n",
       "      <td>1.0</td>\n",
       "      <td>0.693147</td>\n",
       "      <td>100.000000</td>\n",
       "      <td>100.000000</td>\n",
       "      <td>100.000000</td>\n",
       "      <td>100.000000</td>\n",
       "    </tr>\n",
       "    <tr>\n",
       "      <th>CGACTGGACGCTGATCGGTGCGAA</th>\n",
       "      <td>0</td>\n",
       "      <td>0</td>\n",
       "      <td>0.000000</td>\n",
       "      <td>0.0</td>\n",
       "      <td>0.000000</td>\n",
       "      <td>NaN</td>\n",
       "      <td>NaN</td>\n",
       "      <td>NaN</td>\n",
       "      <td>NaN</td>\n",
       "    </tr>\n",
       "    <tr>\n",
       "      <th>CGACTGGACTGAGCCACCGACAAC</th>\n",
       "      <td>1</td>\n",
       "      <td>1</td>\n",
       "      <td>0.693147</td>\n",
       "      <td>1.0</td>\n",
       "      <td>0.693147</td>\n",
       "      <td>100.000000</td>\n",
       "      <td>100.000000</td>\n",
       "      <td>100.000000</td>\n",
       "      <td>100.000000</td>\n",
       "    </tr>\n",
       "    <tr>\n",
       "      <th>CGCATACACGCTGATCGATGAATC</th>\n",
       "      <td>0</td>\n",
       "      <td>0</td>\n",
       "      <td>0.000000</td>\n",
       "      <td>0.0</td>\n",
       "      <td>0.000000</td>\n",
       "      <td>NaN</td>\n",
       "      <td>NaN</td>\n",
       "      <td>NaN</td>\n",
       "      <td>NaN</td>\n",
       "    </tr>\n",
       "    <tr>\n",
       "      <th>CGCATACACGCTGATCTATCAGCA</th>\n",
       "      <td>1</td>\n",
       "      <td>1</td>\n",
       "      <td>0.693147</td>\n",
       "      <td>1.0</td>\n",
       "      <td>0.693147</td>\n",
       "      <td>100.000000</td>\n",
       "      <td>100.000000</td>\n",
       "      <td>100.000000</td>\n",
       "      <td>100.000000</td>\n",
       "    </tr>\n",
       "    <tr>\n",
       "      <th>CGCATACACGCTGATCTCCGTCTA</th>\n",
       "      <td>1</td>\n",
       "      <td>1</td>\n",
       "      <td>0.693147</td>\n",
       "      <td>1.0</td>\n",
       "      <td>0.693147</td>\n",
       "      <td>100.000000</td>\n",
       "      <td>100.000000</td>\n",
       "      <td>100.000000</td>\n",
       "      <td>100.000000</td>\n",
       "    </tr>\n",
       "    <tr>\n",
       "      <th>CGCTGATCACACGACCTCCGTCTA</th>\n",
       "      <td>1</td>\n",
       "      <td>1</td>\n",
       "      <td>0.693147</td>\n",
       "      <td>1.0</td>\n",
       "      <td>0.693147</td>\n",
       "      <td>100.000000</td>\n",
       "      <td>100.000000</td>\n",
       "      <td>100.000000</td>\n",
       "      <td>100.000000</td>\n",
       "    </tr>\n",
       "    <tr>\n",
       "      <th>CGCTGATCATTGGCTCTCCGTCTA</th>\n",
       "      <td>1</td>\n",
       "      <td>1</td>\n",
       "      <td>0.693147</td>\n",
       "      <td>1.0</td>\n",
       "      <td>0.693147</td>\n",
       "      <td>100.000000</td>\n",
       "      <td>100.000000</td>\n",
       "      <td>100.000000</td>\n",
       "      <td>100.000000</td>\n",
       "    </tr>\n",
       "    <tr>\n",
       "      <th>CGCTGATCCGCTGATCGATGAATC</th>\n",
       "      <td>0</td>\n",
       "      <td>0</td>\n",
       "      <td>0.000000</td>\n",
       "      <td>0.0</td>\n",
       "      <td>0.000000</td>\n",
       "      <td>NaN</td>\n",
       "      <td>NaN</td>\n",
       "      <td>NaN</td>\n",
       "      <td>NaN</td>\n",
       "    </tr>\n",
       "    <tr>\n",
       "      <th>CTGGCATAAGCCATGCGCCACATA</th>\n",
       "      <td>1</td>\n",
       "      <td>1</td>\n",
       "      <td>0.693147</td>\n",
       "      <td>1.0</td>\n",
       "      <td>0.693147</td>\n",
       "      <td>100.000000</td>\n",
       "      <td>100.000000</td>\n",
       "      <td>100.000000</td>\n",
       "      <td>100.000000</td>\n",
       "    </tr>\n",
       "    <tr>\n",
       "      <th>CTGGCATACAAGGAGCTCCGTCTA</th>\n",
       "      <td>1</td>\n",
       "      <td>1</td>\n",
       "      <td>0.693147</td>\n",
       "      <td>1.0</td>\n",
       "      <td>0.693147</td>\n",
       "      <td>100.000000</td>\n",
       "      <td>100.000000</td>\n",
       "      <td>100.000000</td>\n",
       "      <td>100.000000</td>\n",
       "    </tr>\n",
       "    <tr>\n",
       "      <th>CTGGCATACGCTGATCGCGAGTAA</th>\n",
       "      <td>0</td>\n",
       "      <td>0</td>\n",
       "      <td>0.000000</td>\n",
       "      <td>0.0</td>\n",
       "      <td>0.000000</td>\n",
       "      <td>NaN</td>\n",
       "      <td>NaN</td>\n",
       "      <td>NaN</td>\n",
       "      <td>NaN</td>\n",
       "    </tr>\n",
       "    <tr>\n",
       "      <th>CTGGCATATGGTGGTAGCCACATA</th>\n",
       "      <td>1</td>\n",
       "      <td>1</td>\n",
       "      <td>0.693147</td>\n",
       "      <td>1.0</td>\n",
       "      <td>0.693147</td>\n",
       "      <td>100.000000</td>\n",
       "      <td>100.000000</td>\n",
       "      <td>100.000000</td>\n",
       "      <td>100.000000</td>\n",
       "    </tr>\n",
       "    <tr>\n",
       "      <th>GAATCTGAGCTCGGTATAGGATGA</th>\n",
       "      <td>1</td>\n",
       "      <td>1</td>\n",
       "      <td>0.693147</td>\n",
       "      <td>1.0</td>\n",
       "      <td>0.693147</td>\n",
       "      <td>100.000000</td>\n",
       "      <td>100.000000</td>\n",
       "      <td>100.000000</td>\n",
       "      <td>100.000000</td>\n",
       "    </tr>\n",
       "    <tr>\n",
       "      <th>GAGCTGAAACACGACCGATGAATC</th>\n",
       "      <td>1</td>\n",
       "      <td>1</td>\n",
       "      <td>0.693147</td>\n",
       "      <td>1.0</td>\n",
       "      <td>0.693147</td>\n",
       "      <td>100.000000</td>\n",
       "      <td>100.000000</td>\n",
       "      <td>100.000000</td>\n",
       "      <td>100.000000</td>\n",
       "    </tr>\n",
       "    <tr>\n",
       "      <th>GAGCTGAAATGCCTAAGCCACATA</th>\n",
       "      <td>1</td>\n",
       "      <td>1</td>\n",
       "      <td>0.693147</td>\n",
       "      <td>1.0</td>\n",
       "      <td>0.693147</td>\n",
       "      <td>100.000000</td>\n",
       "      <td>100.000000</td>\n",
       "      <td>100.000000</td>\n",
       "      <td>100.000000</td>\n",
       "    </tr>\n",
       "    <tr>\n",
       "      <th>GAGCTGAACGCTGATCCAAGGAGC</th>\n",
       "      <td>1</td>\n",
       "      <td>1</td>\n",
       "      <td>0.693147</td>\n",
       "      <td>1.0</td>\n",
       "      <td>0.693147</td>\n",
       "      <td>100.000000</td>\n",
       "      <td>100.000000</td>\n",
       "      <td>100.000000</td>\n",
       "      <td>100.000000</td>\n",
       "    </tr>\n",
       "    <tr>\n",
       "      <th>GAGCTGAACGCTGATCTCCGTCTA</th>\n",
       "      <td>1</td>\n",
       "      <td>1</td>\n",
       "      <td>0.693147</td>\n",
       "      <td>1.0</td>\n",
       "      <td>0.693147</td>\n",
       "      <td>100.000000</td>\n",
       "      <td>100.000000</td>\n",
       "      <td>100.000000</td>\n",
       "      <td>100.000000</td>\n",
       "    </tr>\n",
       "    <tr>\n",
       "      <th>GAGCTGAACTGAGCCAGATGAATC</th>\n",
       "      <td>1</td>\n",
       "      <td>1</td>\n",
       "      <td>0.693147</td>\n",
       "      <td>1.0</td>\n",
       "      <td>0.693147</td>\n",
       "      <td>100.000000</td>\n",
       "      <td>100.000000</td>\n",
       "      <td>100.000000</td>\n",
       "      <td>100.000000</td>\n",
       "    </tr>\n",
       "  </tbody>\n",
       "</table>\n",
       "<p>442172 rows × 9 columns</p>\n",
       "</div>"
      ],
      "text/plain": [
       "                          no_umis  n_genes_by_counts  log1p_n_genes_by_counts  \\\n",
       "index                                                                           \n",
       "CTGAGCCACACTTCGAATTGAGGA   490252              12834                 9.459931   \n",
       "CATCAAGTCGCATACAAGTACAAG   391968              12208                 9.409929   \n",
       "CTGAGCCACACTTCGAAGCACCTC   303367              11639                 9.362203   \n",
       "AACAACCACGACACACAGTACAAG   298302              11579                 9.357035   \n",
       "ACACAGAATCTTCACAATCCTGTA   206398              10364                 9.246190   \n",
       "AACAACCAATCCTGTACACTTCGA   203858              10693                 9.277438   \n",
       "ATCCTGTACCTCTATCACCACTGT   193217              10301                 9.240093   \n",
       "GACTAGTATCCGTCTACATCAAGT   188941              10082                 9.218606   \n",
       "AGTCACTATGGTGGTAACGTATCA   188918              10465                 9.255887   \n",
       "CTGAGCCAAGTGGTCAATTGAGGA   188714              10203                 9.230535   \n",
       "ACCACTGTCATACCAACACTTCGA   187737              10329                 9.242808   \n",
       "ATCCTGTAAGAGTCAAACCACTGT   185752              10554                 9.264355   \n",
       "ACAGCAGACCTCTATCACAAGCTA   185251              10318                 9.241742   \n",
       "AGTCACTAGAGCTGAACATCAAGT   182605              10172                 9.227492   \n",
       "AAGACGGAGGAGAACACACTTCGA   182215              10142                 9.224539   \n",
       "CGCTGATCAACAACCACAGATCTG   172397              10251                 9.235228   \n",
       "CTGAGCCAATCCTGTACAGATCTG   171204               9917                 9.202107   \n",
       "ACACAGAAAAGGACACACCACTGT   168581               9928                 9.203215   \n",
       "ACACAGAACCTCCTGACCAGTTCA   168570               9873                 9.197660   \n",
       "AGTCACTAACCTCCAACCAGTTCA   167775               9806                 9.190852   \n",
       "ACCACTGTCGAACTTACATCAAGT   166274               9913                 9.201703   \n",
       "ACGTATCAACGCTCGAATTGAGGA   159912              10059                 9.216322   \n",
       "CTGAGCCAGAACAGGCCGAACTTA   158450               9996                 9.210040   \n",
       "CTCAATGAAGAGTCAAATTGAGGA   156843               9615                 9.171184   \n",
       "ACATTGGCCATACCAACCAGTTCA   146595               9592                 9.168789   \n",
       "AACAACCAGAGCTGAATGGTGGTA   142580               9037                 9.109193   \n",
       "AACAACCAATCCTGTAATCATTCC   140704               9691                 9.179056   \n",
       "ACCACTGTCATACCAAATCATTCC   138862               9465                 9.155462   \n",
       "CAACCACACCATCCTCACCTCCAA   137376               9266                 9.134215   \n",
       "CGCTGATCAGTCACTAAGTACAAG   136872               9422                 9.150909   \n",
       "...                           ...                ...                      ...   \n",
       "CCGAAGTACGCTGATCGATGAATC        1                  1                 0.693147   \n",
       "CCGAAGTACGCTGATCGTCTGTCA        1                  1                 0.693147   \n",
       "CCGTGAGAACAAGCTAGCCACATA        1                  1                 0.693147   \n",
       "CCGTGAGACGCTGATCATAGCGAC        1                  1                 0.693147   \n",
       "CCGTGAGACGCTGATCCCGACAAC        1                  1                 0.693147   \n",
       "CCGTGAGACGCTGATCGCGAGTAA        0                  0                 0.000000   \n",
       "CCTCCTGAAGCACCTCGGTGCGAA        1                  1                 0.693147   \n",
       "CCTCCTGACATCAAGTGCCACATA        1                  1                 0.693147   \n",
       "CGAACTTAAACGTGATTCCGTCTA        0                  0                 0.000000   \n",
       "CGAACTTACGCTGATCAAACATCG        0                  0                 0.000000   \n",
       "CGACTGGACGCTGATCAGGCTAAC        1                  1                 0.693147   \n",
       "CGACTGGACGCTGATCCTGTAGCC        1                  1                 0.693147   \n",
       "CGACTGGACGCTGATCGGTGCGAA        0                  0                 0.000000   \n",
       "CGACTGGACTGAGCCACCGACAAC        1                  1                 0.693147   \n",
       "CGCATACACGCTGATCGATGAATC        0                  0                 0.000000   \n",
       "CGCATACACGCTGATCTATCAGCA        1                  1                 0.693147   \n",
       "CGCATACACGCTGATCTCCGTCTA        1                  1                 0.693147   \n",
       "CGCTGATCACACGACCTCCGTCTA        1                  1                 0.693147   \n",
       "CGCTGATCATTGGCTCTCCGTCTA        1                  1                 0.693147   \n",
       "CGCTGATCCGCTGATCGATGAATC        0                  0                 0.000000   \n",
       "CTGGCATAAGCCATGCGCCACATA        1                  1                 0.693147   \n",
       "CTGGCATACAAGGAGCTCCGTCTA        1                  1                 0.693147   \n",
       "CTGGCATACGCTGATCGCGAGTAA        0                  0                 0.000000   \n",
       "CTGGCATATGGTGGTAGCCACATA        1                  1                 0.693147   \n",
       "GAATCTGAGCTCGGTATAGGATGA        1                  1                 0.693147   \n",
       "GAGCTGAAACACGACCGATGAATC        1                  1                 0.693147   \n",
       "GAGCTGAAATGCCTAAGCCACATA        1                  1                 0.693147   \n",
       "GAGCTGAACGCTGATCCAAGGAGC        1                  1                 0.693147   \n",
       "GAGCTGAACGCTGATCTCCGTCTA        1                  1                 0.693147   \n",
       "GAGCTGAACTGAGCCAGATGAATC        1                  1                 0.693147   \n",
       "\n",
       "                          total_counts  log1p_total_counts  \\\n",
       "index                                                        \n",
       "CTGAGCCACACTTCGAATTGAGGA      311398.0           12.648830   \n",
       "CATCAAGTCGCATACAAGTACAAG      239063.0           12.384486   \n",
       "CTGAGCCACACTTCGAAGCACCTC      193188.0           12.171424   \n",
       "AACAACCACGACACACAGTACAAG      190904.0           12.159532   \n",
       "ACACAGAATCTTCACAATCCTGTA      121476.0           11.707480   \n",
       "AACAACCAATCCTGTACACTTCGA      137794.0           11.833523   \n",
       "ATCCTGTACCTCTATCACCACTGT      119664.0           11.692451   \n",
       "GACTAGTATCCGTCTACATCAAGT      111204.0           11.619131   \n",
       "AGTCACTATGGTGGTAACGTATCA      128810.0           11.766102   \n",
       "CTGAGCCAAGTGGTCAATTGAGGA      112223.0           11.628252   \n",
       "ACCACTGTCATACCAACACTTCGA      117163.0           11.671329   \n",
       "ATCCTGTAAGAGTCAAACCACTGT      124150.0           11.729254   \n",
       "ACAGCAGACCTCTATCACAAGCTA      119063.0           11.687416   \n",
       "AGTCACTAGAGCTGAACATCAAGT      116864.0           11.668775   \n",
       "AAGACGGAGGAGAACACACTTCGA      115146.0           11.653965   \n",
       "CGCTGATCAACAACCACAGATCTG      117791.0           11.676676   \n",
       "CTGAGCCAATCCTGTACAGATCTG      102930.0           11.541814   \n",
       "ACACAGAAAAGGACACACCACTGT      107886.0           11.588840   \n",
       "ACACAGAACCTCCTGACCAGTTCA      102436.0           11.537004   \n",
       "AGTCACTAACCTCCAACCAGTTCA      102040.0           11.533130   \n",
       "ACCACTGTCGAACTTACATCAAGT      104811.0           11.559923   \n",
       "ACGTATCAACGCTCGAATTGAGGA      109078.0           11.599828   \n",
       "CTGAGCCAGAACAGGCCGAACTTA      105497.0           11.566447   \n",
       "CTCAATGAAGAGTCAAATTGAGGA       91819.0           11.427586   \n",
       "ACATTGGCCATACCAACCAGTTCA       93190.0           11.442407   \n",
       "AACAACCAGAGCTGAATGGTGGTA       75074.0           11.226243   \n",
       "AACAACCAATCCTGTAATCATTCC       94907.0           11.460663   \n",
       "ACCACTGTCATACCAAATCATTCC       86511.0           11.368038   \n",
       "CAACCACACCATCCTCACCTCCAA       83079.0           11.327559   \n",
       "CGCTGATCAGTCACTAAGTACAAG       86760.0           11.370913   \n",
       "...                                ...                 ...   \n",
       "CCGAAGTACGCTGATCGATGAATC           1.0            0.693147   \n",
       "CCGAAGTACGCTGATCGTCTGTCA           1.0            0.693147   \n",
       "CCGTGAGAACAAGCTAGCCACATA           1.0            0.693147   \n",
       "CCGTGAGACGCTGATCATAGCGAC           1.0            0.693147   \n",
       "CCGTGAGACGCTGATCCCGACAAC           1.0            0.693147   \n",
       "CCGTGAGACGCTGATCGCGAGTAA           0.0            0.000000   \n",
       "CCTCCTGAAGCACCTCGGTGCGAA           1.0            0.693147   \n",
       "CCTCCTGACATCAAGTGCCACATA           1.0            0.693147   \n",
       "CGAACTTAAACGTGATTCCGTCTA           0.0            0.000000   \n",
       "CGAACTTACGCTGATCAAACATCG           0.0            0.000000   \n",
       "CGACTGGACGCTGATCAGGCTAAC           1.0            0.693147   \n",
       "CGACTGGACGCTGATCCTGTAGCC           1.0            0.693147   \n",
       "CGACTGGACGCTGATCGGTGCGAA           0.0            0.000000   \n",
       "CGACTGGACTGAGCCACCGACAAC           1.0            0.693147   \n",
       "CGCATACACGCTGATCGATGAATC           0.0            0.000000   \n",
       "CGCATACACGCTGATCTATCAGCA           1.0            0.693147   \n",
       "CGCATACACGCTGATCTCCGTCTA           1.0            0.693147   \n",
       "CGCTGATCACACGACCTCCGTCTA           1.0            0.693147   \n",
       "CGCTGATCATTGGCTCTCCGTCTA           1.0            0.693147   \n",
       "CGCTGATCCGCTGATCGATGAATC           0.0            0.000000   \n",
       "CTGGCATAAGCCATGCGCCACATA           1.0            0.693147   \n",
       "CTGGCATACAAGGAGCTCCGTCTA           1.0            0.693147   \n",
       "CTGGCATACGCTGATCGCGAGTAA           0.0            0.000000   \n",
       "CTGGCATATGGTGGTAGCCACATA           1.0            0.693147   \n",
       "GAATCTGAGCTCGGTATAGGATGA           1.0            0.693147   \n",
       "GAGCTGAAACACGACCGATGAATC           1.0            0.693147   \n",
       "GAGCTGAAATGCCTAAGCCACATA           1.0            0.693147   \n",
       "GAGCTGAACGCTGATCCAAGGAGC           1.0            0.693147   \n",
       "GAGCTGAACGCTGATCTCCGTCTA           1.0            0.693147   \n",
       "GAGCTGAACTGAGCCAGATGAATC           1.0            0.693147   \n",
       "\n",
       "                          pct_counts_in_top_50_genes  \\\n",
       "index                                                  \n",
       "CTGAGCCACACTTCGAATTGAGGA                   17.714308   \n",
       "CATCAAGTCGCATACAAGTACAAG                   17.861819   \n",
       "CTGAGCCACACTTCGAAGCACCTC                   17.768184   \n",
       "AACAACCACGACACACAGTACAAG                   17.819428   \n",
       "ACACAGAATCTTCACAATCCTGTA                   18.037308   \n",
       "AACAACCAATCCTGTACACTTCGA                   17.971755   \n",
       "ATCCTGTACCTCTATCACCACTGT                   17.913491   \n",
       "GACTAGTATCCGTCTACATCAAGT                   17.806014   \n",
       "AGTCACTATGGTGGTAACGTATCA                   17.948141   \n",
       "CTGAGCCAAGTGGTCAATTGAGGA                   17.791362   \n",
       "ACCACTGTCATACCAACACTTCGA                   17.746217   \n",
       "ATCCTGTAAGAGTCAAACCACTGT                   17.594845   \n",
       "ACAGCAGACCTCTATCACAAGCTA                   17.698193   \n",
       "AGTCACTAGAGCTGAACATCAAGT                   18.053464   \n",
       "AAGACGGAGGAGAACACACTTCGA                   18.070102   \n",
       "CGCTGATCAACAACCACAGATCTG                   17.871484   \n",
       "CTGAGCCAATCCTGTACAGATCTG                   17.707180   \n",
       "ACACAGAAAAGGACACACCACTGT                   18.269284   \n",
       "ACACAGAACCTCCTGACCAGTTCA                   18.028818   \n",
       "AGTCACTAACCTCCAACCAGTTCA                   17.955704   \n",
       "ACCACTGTCGAACTTACATCAAGT                   18.130731   \n",
       "ACGTATCAACGCTCGAATTGAGGA                   17.972460   \n",
       "CTGAGCCAGAACAGGCCGAACTTA                   17.817568   \n",
       "CTCAATGAAGAGTCAAATTGAGGA                   17.845980   \n",
       "ACATTGGCCATACCAACCAGTTCA                   18.117824   \n",
       "AACAACCAGAGCTGAATGGTGGTA                   18.074167   \n",
       "AACAACCAATCCTGTAATCATTCC                   17.908057   \n",
       "ACCACTGTCATACCAAATCATTCC                   17.874028   \n",
       "CAACCACACCATCCTCACCTCCAA                   18.301857   \n",
       "CGCTGATCAGTCACTAAGTACAAG                   17.926464   \n",
       "...                                              ...   \n",
       "CCGAAGTACGCTGATCGATGAATC                  100.000000   \n",
       "CCGAAGTACGCTGATCGTCTGTCA                  100.000000   \n",
       "CCGTGAGAACAAGCTAGCCACATA                  100.000000   \n",
       "CCGTGAGACGCTGATCATAGCGAC                  100.000000   \n",
       "CCGTGAGACGCTGATCCCGACAAC                  100.000000   \n",
       "CCGTGAGACGCTGATCGCGAGTAA                         NaN   \n",
       "CCTCCTGAAGCACCTCGGTGCGAA                  100.000000   \n",
       "CCTCCTGACATCAAGTGCCACATA                  100.000000   \n",
       "CGAACTTAAACGTGATTCCGTCTA                         NaN   \n",
       "CGAACTTACGCTGATCAAACATCG                         NaN   \n",
       "CGACTGGACGCTGATCAGGCTAAC                  100.000000   \n",
       "CGACTGGACGCTGATCCTGTAGCC                  100.000000   \n",
       "CGACTGGACGCTGATCGGTGCGAA                         NaN   \n",
       "CGACTGGACTGAGCCACCGACAAC                  100.000000   \n",
       "CGCATACACGCTGATCGATGAATC                         NaN   \n",
       "CGCATACACGCTGATCTATCAGCA                  100.000000   \n",
       "CGCATACACGCTGATCTCCGTCTA                  100.000000   \n",
       "CGCTGATCACACGACCTCCGTCTA                  100.000000   \n",
       "CGCTGATCATTGGCTCTCCGTCTA                  100.000000   \n",
       "CGCTGATCCGCTGATCGATGAATC                         NaN   \n",
       "CTGGCATAAGCCATGCGCCACATA                  100.000000   \n",
       "CTGGCATACAAGGAGCTCCGTCTA                  100.000000   \n",
       "CTGGCATACGCTGATCGCGAGTAA                         NaN   \n",
       "CTGGCATATGGTGGTAGCCACATA                  100.000000   \n",
       "GAATCTGAGCTCGGTATAGGATGA                  100.000000   \n",
       "GAGCTGAAACACGACCGATGAATC                  100.000000   \n",
       "GAGCTGAAATGCCTAAGCCACATA                  100.000000   \n",
       "GAGCTGAACGCTGATCCAAGGAGC                  100.000000   \n",
       "GAGCTGAACGCTGATCTCCGTCTA                  100.000000   \n",
       "GAGCTGAACTGAGCCAGATGAATC                  100.000000   \n",
       "\n",
       "                          pct_counts_in_top_100_genes  \\\n",
       "index                                                   \n",
       "CTGAGCCACACTTCGAATTGAGGA                    25.373638   \n",
       "CATCAAGTCGCATACAAGTACAAG                    25.533437   \n",
       "CTGAGCCACACTTCGAAGCACCTC                    25.261403   \n",
       "AACAACCACGACACACAGTACAAG                    25.465679   \n",
       "ACACAGAATCTTCACAATCCTGTA                    25.690671   \n",
       "AACAACCAATCCTGTACACTTCGA                    25.641175   \n",
       "ATCCTGTACCTCTATCACCACTGT                    25.533160   \n",
       "GACTAGTATCCGTCTACATCAAGT                    25.528758   \n",
       "AGTCACTATGGTGGTAACGTATCA                    25.407965   \n",
       "CTGAGCCAAGTGGTCAATTGAGGA                    25.390517   \n",
       "ACCACTGTCATACCAACACTTCGA                    25.514881   \n",
       "ATCCTGTAAGAGTCAAACCACTGT                    25.093838   \n",
       "ACAGCAGACCTCTATCACAAGCTA                    25.192545   \n",
       "AGTCACTAGAGCTGAACATCAAGT                    25.753868   \n",
       "AAGACGGAGGAGAACACACTTCGA                    25.536276   \n",
       "CGCTGATCAACAACCACAGATCTG                    25.477328   \n",
       "CTGAGCCAATCCTGTACAGATCTG                    25.310405   \n",
       "ACACAGAAAAGGACACACCACTGT                    25.986690   \n",
       "ACACAGAACCTCCTGACCAGTTCA                    25.598422   \n",
       "AGTCACTAACCTCCAACCAGTTCA                    25.539984   \n",
       "ACCACTGTCGAACTTACATCAAGT                    25.917127   \n",
       "ACGTATCAACGCTCGAATTGAGGA                    25.687123   \n",
       "CTGAGCCAGAACAGGCCGAACTTA                    25.464231   \n",
       "CTCAATGAAGAGTCAAATTGAGGA                    25.429377   \n",
       "ACATTGGCCATACCAACCAGTTCA                    25.776371   \n",
       "AACAACCAGAGCTGAATGGTGGTA                    25.710632   \n",
       "AACAACCAATCCTGTAATCATTCC                    25.518666   \n",
       "ACCACTGTCATACCAAATCATTCC                    25.516986   \n",
       "CAACCACACCATCCTCACCTCCAA                    26.045090   \n",
       "CGCTGATCAGTCACTAAGTACAAG                    25.504841   \n",
       "...                                               ...   \n",
       "CCGAAGTACGCTGATCGATGAATC                   100.000000   \n",
       "CCGAAGTACGCTGATCGTCTGTCA                   100.000000   \n",
       "CCGTGAGAACAAGCTAGCCACATA                   100.000000   \n",
       "CCGTGAGACGCTGATCATAGCGAC                   100.000000   \n",
       "CCGTGAGACGCTGATCCCGACAAC                   100.000000   \n",
       "CCGTGAGACGCTGATCGCGAGTAA                          NaN   \n",
       "CCTCCTGAAGCACCTCGGTGCGAA                   100.000000   \n",
       "CCTCCTGACATCAAGTGCCACATA                   100.000000   \n",
       "CGAACTTAAACGTGATTCCGTCTA                          NaN   \n",
       "CGAACTTACGCTGATCAAACATCG                          NaN   \n",
       "CGACTGGACGCTGATCAGGCTAAC                   100.000000   \n",
       "CGACTGGACGCTGATCCTGTAGCC                   100.000000   \n",
       "CGACTGGACGCTGATCGGTGCGAA                          NaN   \n",
       "CGACTGGACTGAGCCACCGACAAC                   100.000000   \n",
       "CGCATACACGCTGATCGATGAATC                          NaN   \n",
       "CGCATACACGCTGATCTATCAGCA                   100.000000   \n",
       "CGCATACACGCTGATCTCCGTCTA                   100.000000   \n",
       "CGCTGATCACACGACCTCCGTCTA                   100.000000   \n",
       "CGCTGATCATTGGCTCTCCGTCTA                   100.000000   \n",
       "CGCTGATCCGCTGATCGATGAATC                          NaN   \n",
       "CTGGCATAAGCCATGCGCCACATA                   100.000000   \n",
       "CTGGCATACAAGGAGCTCCGTCTA                   100.000000   \n",
       "CTGGCATACGCTGATCGCGAGTAA                          NaN   \n",
       "CTGGCATATGGTGGTAGCCACATA                   100.000000   \n",
       "GAATCTGAGCTCGGTATAGGATGA                   100.000000   \n",
       "GAGCTGAAACACGACCGATGAATC                   100.000000   \n",
       "GAGCTGAAATGCCTAAGCCACATA                   100.000000   \n",
       "GAGCTGAACGCTGATCCAAGGAGC                   100.000000   \n",
       "GAGCTGAACGCTGATCTCCGTCTA                   100.000000   \n",
       "GAGCTGAACTGAGCCAGATGAATC                   100.000000   \n",
       "\n",
       "                          pct_counts_in_top_200_genes  \\\n",
       "index                                                   \n",
       "CTGAGCCACACTTCGAATTGAGGA                    34.393606   \n",
       "CATCAAGTCGCATACAAGTACAAG                    34.654463   \n",
       "CTGAGCCACACTTCGAAGCACCTC                    34.364453   \n",
       "AACAACCACGACACACAGTACAAG                    34.577065   \n",
       "ACACAGAATCTTCACAATCCTGTA                    34.886727   \n",
       "AACAACCAATCCTGTACACTTCGA                    34.810659   \n",
       "ATCCTGTACCTCTATCACCACTGT                    34.772363   \n",
       "GACTAGTATCCGTCTACATCAAGT                    34.674112   \n",
       "AGTCACTATGGTGGTAACGTATCA                    34.618430   \n",
       "CTGAGCCAAGTGGTCAATTGAGGA                    34.566889   \n",
       "ACCACTGTCATACCAACACTTCGA                    34.596246   \n",
       "ATCCTGTAAGAGTCAAACCACTGT                    34.089408   \n",
       "ACAGCAGACCTCTATCACAAGCTA                    34.164266   \n",
       "AGTCACTAGAGCTGAACATCAAGT                    34.784022   \n",
       "AAGACGGAGGAGAACACACTTCGA                    34.596078   \n",
       "CGCTGATCAACAACCACAGATCTG                    34.746288   \n",
       "CTGAGCCAATCCTGTACAGATCTG                    34.517633   \n",
       "ACACAGAAAAGGACACACCACTGT                    35.325251   \n",
       "ACACAGAACCTCCTGACCAGTTCA                    34.799289   \n",
       "AGTCACTAACCTCCAACCAGTTCA                    34.852999   \n",
       "ACCACTGTCGAACTTACATCAAGT                    35.094599   \n",
       "ACGTATCAACGCTCGAATTGAGGA                    34.998808   \n",
       "CTGAGCCAGAACAGGCCGAACTTA                    34.640795   \n",
       "CTCAATGAAGAGTCAAATTGAGGA                    34.390486   \n",
       "ACATTGGCCATACCAACCAGTTCA                    34.896448   \n",
       "AACAACCAGAGCTGAATGGTGGTA                    34.776354   \n",
       "AACAACCAATCCTGTAATCATTCC                    34.743486   \n",
       "ACCACTGTCATACCAAATCATTCC                    34.573638   \n",
       "CAACCACACCATCCTCACCTCCAA                    35.179769   \n",
       "CGCTGATCAGTCACTAAGTACAAG                    34.659982   \n",
       "...                                               ...   \n",
       "CCGAAGTACGCTGATCGATGAATC                   100.000000   \n",
       "CCGAAGTACGCTGATCGTCTGTCA                   100.000000   \n",
       "CCGTGAGAACAAGCTAGCCACATA                   100.000000   \n",
       "CCGTGAGACGCTGATCATAGCGAC                   100.000000   \n",
       "CCGTGAGACGCTGATCCCGACAAC                   100.000000   \n",
       "CCGTGAGACGCTGATCGCGAGTAA                          NaN   \n",
       "CCTCCTGAAGCACCTCGGTGCGAA                   100.000000   \n",
       "CCTCCTGACATCAAGTGCCACATA                   100.000000   \n",
       "CGAACTTAAACGTGATTCCGTCTA                          NaN   \n",
       "CGAACTTACGCTGATCAAACATCG                          NaN   \n",
       "CGACTGGACGCTGATCAGGCTAAC                   100.000000   \n",
       "CGACTGGACGCTGATCCTGTAGCC                   100.000000   \n",
       "CGACTGGACGCTGATCGGTGCGAA                          NaN   \n",
       "CGACTGGACTGAGCCACCGACAAC                   100.000000   \n",
       "CGCATACACGCTGATCGATGAATC                          NaN   \n",
       "CGCATACACGCTGATCTATCAGCA                   100.000000   \n",
       "CGCATACACGCTGATCTCCGTCTA                   100.000000   \n",
       "CGCTGATCACACGACCTCCGTCTA                   100.000000   \n",
       "CGCTGATCATTGGCTCTCCGTCTA                   100.000000   \n",
       "CGCTGATCCGCTGATCGATGAATC                          NaN   \n",
       "CTGGCATAAGCCATGCGCCACATA                   100.000000   \n",
       "CTGGCATACAAGGAGCTCCGTCTA                   100.000000   \n",
       "CTGGCATACGCTGATCGCGAGTAA                          NaN   \n",
       "CTGGCATATGGTGGTAGCCACATA                   100.000000   \n",
       "GAATCTGAGCTCGGTATAGGATGA                   100.000000   \n",
       "GAGCTGAAACACGACCGATGAATC                   100.000000   \n",
       "GAGCTGAAATGCCTAAGCCACATA                   100.000000   \n",
       "GAGCTGAACGCTGATCCAAGGAGC                   100.000000   \n",
       "GAGCTGAACGCTGATCTCCGTCTA                   100.000000   \n",
       "GAGCTGAACTGAGCCAGATGAATC                   100.000000   \n",
       "\n",
       "                          pct_counts_in_top_500_genes  \n",
       "index                                                  \n",
       "CTGAGCCACACTTCGAATTGAGGA                    48.517653  \n",
       "CATCAAGTCGCATACAAGTACAAG                    48.869127  \n",
       "CTGAGCCACACTTCGAAGCACCTC                    48.811520  \n",
       "AACAACCACGACACACAGTACAAG                    48.857541  \n",
       "ACACAGAATCTTCACAATCCTGTA                    49.315914  \n",
       "AACAACCAATCCTGTACACTTCGA                    49.031888  \n",
       "ATCCTGTACCTCTATCACCACTGT                    49.038140  \n",
       "GACTAGTATCCGTCTACATCAAGT                    49.130427  \n",
       "AGTCACTATGGTGGTAACGTATCA                    48.977564  \n",
       "CTGAGCCAAGTGGTCAATTGAGGA                    48.924908  \n",
       "ACCACTGTCATACCAACACTTCGA                    49.019742  \n",
       "ATCCTGTAAGAGTCAAACCACTGT                    48.484897  \n",
       "ACAGCAGACCTCTATCACAAGCTA                    48.542368  \n",
       "AGTCACTAGAGCTGAACATCAAGT                    49.217894  \n",
       "AAGACGGAGGAGAACACACTTCGA                    48.946555  \n",
       "CGCTGATCAACAACCACAGATCTG                    49.077604  \n",
       "CTGAGCCAATCCTGTACAGATCTG                    48.805985  \n",
       "ACACAGAAAAGGACACACCACTGT                    49.729344  \n",
       "ACACAGAACCTCCTGACCAGTTCA                    49.216096  \n",
       "AGTCACTAACCTCCAACCAGTTCA                    49.272834  \n",
       "ACCACTGTCGAACTTACATCAAGT                    49.269638  \n",
       "ACGTATCAACGCTCGAATTGAGGA                    49.376593  \n",
       "CTGAGCCAGAACAGGCCGAACTTA                    49.044049  \n",
       "CTCAATGAAGAGTCAAATTGAGGA                    48.723031  \n",
       "ACATTGGCCATACCAACCAGTTCA                    49.267089  \n",
       "AACAACCAGAGCTGAATGGTGGTA                    48.959693  \n",
       "AACAACCAATCCTGTAATCATTCC                    49.051176  \n",
       "ACCACTGTCATACCAAATCATTCC                    48.935973  \n",
       "CAACCACACCATCCTCACCTCCAA                    49.489041  \n",
       "CGCTGATCAGTCACTAAGTACAAG                    49.067543  \n",
       "...                                               ...  \n",
       "CCGAAGTACGCTGATCGATGAATC                   100.000000  \n",
       "CCGAAGTACGCTGATCGTCTGTCA                   100.000000  \n",
       "CCGTGAGAACAAGCTAGCCACATA                   100.000000  \n",
       "CCGTGAGACGCTGATCATAGCGAC                   100.000000  \n",
       "CCGTGAGACGCTGATCCCGACAAC                   100.000000  \n",
       "CCGTGAGACGCTGATCGCGAGTAA                          NaN  \n",
       "CCTCCTGAAGCACCTCGGTGCGAA                   100.000000  \n",
       "CCTCCTGACATCAAGTGCCACATA                   100.000000  \n",
       "CGAACTTAAACGTGATTCCGTCTA                          NaN  \n",
       "CGAACTTACGCTGATCAAACATCG                          NaN  \n",
       "CGACTGGACGCTGATCAGGCTAAC                   100.000000  \n",
       "CGACTGGACGCTGATCCTGTAGCC                   100.000000  \n",
       "CGACTGGACGCTGATCGGTGCGAA                          NaN  \n",
       "CGACTGGACTGAGCCACCGACAAC                   100.000000  \n",
       "CGCATACACGCTGATCGATGAATC                          NaN  \n",
       "CGCATACACGCTGATCTATCAGCA                   100.000000  \n",
       "CGCATACACGCTGATCTCCGTCTA                   100.000000  \n",
       "CGCTGATCACACGACCTCCGTCTA                   100.000000  \n",
       "CGCTGATCATTGGCTCTCCGTCTA                   100.000000  \n",
       "CGCTGATCCGCTGATCGATGAATC                          NaN  \n",
       "CTGGCATAAGCCATGCGCCACATA                   100.000000  \n",
       "CTGGCATACAAGGAGCTCCGTCTA                   100.000000  \n",
       "CTGGCATACGCTGATCGCGAGTAA                          NaN  \n",
       "CTGGCATATGGTGGTAGCCACATA                   100.000000  \n",
       "GAATCTGAGCTCGGTATAGGATGA                   100.000000  \n",
       "GAGCTGAAACACGACCGATGAATC                   100.000000  \n",
       "GAGCTGAAATGCCTAAGCCACATA                   100.000000  \n",
       "GAGCTGAACGCTGATCCAAGGAGC                   100.000000  \n",
       "GAGCTGAACGCTGATCTCCGTCTA                   100.000000  \n",
       "GAGCTGAACTGAGCCAGATGAATC                   100.000000  \n",
       "\n",
       "[442172 rows x 9 columns]"
      ]
     },
     "execution_count": 30,
     "metadata": {},
     "output_type": "execute_result"
    }
   ],
   "source": [
    "sp_dge.obs"
   ]
  },
  {
   "cell_type": "code",
   "execution_count": 32,
   "metadata": {
    "scrolled": true
   },
   "outputs": [
    {
     "data": {
      "image/png": "[encoded data removed]",
      "text/plain": [
       "<Figure size 432x288 with 1 Axes>"
      ]
     },
     "metadata": {
      "needs_background": "light"
     },
     "output_type": "display_data"
    }
   ],
   "source": [
    "plt.hist(sp_dge.obs['total_counts'], histtype='bar', rwidth=0.5, align='left')\n",
    "plt.yscale('log')"
   ]
  },
  {
   "cell_type": "code",
   "execution_count": 81,
   "metadata": {},
   "outputs": [
    {
     "name": "stdout",
     "output_type": "stream",
     "text": [
      "150935\n",
      "442168\n",
      "150931\n"
     ]
    }
   ],
   "source": [
    "lower_lim = sp_dge.obs['total_counts'] > 400\n",
    "upper_lim = sp_dge.obs['total_counts'] < 150000\n",
    "# sp_dge.obs['keep'] = lower_lim & upper_lim\n",
    "print(np.sum(lower_lim))\n",
    "print(np.sum(upper_lim))\n",
    "keep = lower_lim & upper_lim\n",
    "print(sum(keep))"
   ]
  },
  {
   "cell_type": "code",
   "execution_count": 82,
   "metadata": {},
   "outputs": [],
   "source": [
    "sp_dge_fil = sp_dge[keep, :]"
   ]
  },
  {
   "cell_type": "code",
   "execution_count": 84,
   "metadata": {
    "collapsed": true
   },
   "outputs": [
    {
     "data": {
      "image/png": "[encoded data removed]",
      "text/plain": [
       "<Figure size 432x288 with 1 Axes>"
      ]
     },
     "metadata": {
      "needs_background": "light"
     },
     "output_type": "display_data"
    }
   ],
   "source": [
    "plt.hist(sp_dge_fil.obs['total_counts'], histtype='bar', rwidth=0.5, align='left')\n",
    "plt.yscale('log')"
   ]
  },
  {
   "cell_type": "code",
   "execution_count": 85,
   "metadata": {},
   "outputs": [
    {
     "data": {
      "text/plain": [
       "(array([9.3629e+04, 3.3972e+04, 1.3851e+04, 5.6840e+03, 2.3150e+03,\n",
       "        9.3000e+02, 3.4800e+02, 1.3600e+02, 4.6000e+01, 2.0000e+01]),\n",
       " array([  318. ,  1355.5,  2393. ,  3430.5,  4468. ,  5505.5,  6543. ,\n",
       "         7580.5,  8618. ,  9655.5, 10693. ]),\n",
       " <a list of 10 Patch objects>)"
      ]
     },
     "execution_count": 85,
     "metadata": {},
     "output_type": "execute_result"
    },
    {
     "data": {
      "image/png": "[encoded data removed]",
      "text/plain": [
       "<Figure size 432x288 with 1 Axes>"
      ]
     },
     "metadata": {
      "needs_background": "light"
     },
     "output_type": "display_data"
    }
   ],
   "source": [
    "plt.hist(sp_dge_fil.obs[\"n_genes_by_counts\"], histtype='bar', rwidth=0.8)"
   ]
  },
  {
   "cell_type": "code",
   "execution_count": 87,
   "metadata": {
    "collapsed": true
   },
   "outputs": [
    {
     "data": {
      "image/png": "[encoded data removed]",
      "text/plain": [
       "<Figure size 360x396 with 1 Axes>"
      ]
     },
     "metadata": {
      "needs_background": "light"
     },
     "output_type": "display_data"
    }
   ],
   "source": [
    "sc.pl.highest_expr_genes(sp_dge_fil, n_top=20, )"
   ]
  },
  {
   "cell_type": "code",
   "execution_count": 88,
   "metadata": {
    "collapsed": true
   },
   "outputs": [
    {
     "data": {
      "text/plain": [
       "<matplotlib.collections.PathCollection at 0x1a2ee38d50>"
      ]
     },
     "execution_count": 88,
     "metadata": {},
     "output_type": "execute_result"
    },
    {
     "data": {
      "image/png": "[encoded data removed]",
      "text/plain": [
       "<Figure size 432x288 with 1 Axes>"
      ]
     },
     "metadata": {
      "needs_background": "light"
     },
     "output_type": "display_data"
    }
   ],
   "source": [
    "plt.scatter(sp_dge_fil.obs['total_counts'],sp_dge_fil.obs['n_genes_by_counts'])"
   ]
  },
  {
   "cell_type": "markdown",
   "metadata": {},
   "source": [
    "# published dge matrix\n",
    "#####################################################"
   ]
  },
  {
   "cell_type": "code",
   "execution_count": 19,
   "metadata": {},
   "outputs": [],
   "source": [
    "input_file = \"/Volumes/win_mac/dge_matrix_original/GSM3017261_150000_CNS_nuclei.h5ad\"\n",
    "sp_dge_or = sc.read(input_file)"
   ]
  },
  {
   "cell_type": "code",
   "execution_count": 20,
   "metadata": {},
   "outputs": [
    {
     "data": {
      "text/plain": [
       "AnnData object with n_obs × n_vars = 156049 × 26894 "
      ]
     },
     "execution_count": 20,
     "metadata": {},
     "output_type": "execute_result"
    }
   ],
   "source": [
    "sp_dge_or"
   ]
  },
  {
   "cell_type": "code",
   "execution_count": 21,
   "metadata": {},
   "outputs": [],
   "source": [
    "sc.pp.normalize_total(sp_dge_or, target_sum=1e4)"
   ]
  },
  {
   "cell_type": "code",
   "execution_count": 22,
   "metadata": {},
   "outputs": [],
   "source": [
    "sc.pp.log1p(sp_dge_or)"
   ]
  },
  {
   "cell_type": "code",
   "execution_count": 24,
   "metadata": {},
   "outputs": [
    {
     "data": {
      "text/plain": [
       "1100.7025"
      ]
     },
     "execution_count": 24,
     "metadata": {},
     "output_type": "execute_result"
    }
   ],
   "source": [
    "np.sum(sp_dge_or.X[0,])"
   ]
  },
  {
   "cell_type": "code",
   "execution_count": 25,
   "metadata": {},
   "outputs": [
    {
     "data": {
      "text/plain": [
       "AnnData object with n_obs × n_vars = 156049 × 26894 "
      ]
     },
     "execution_count": 25,
     "metadata": {},
     "output_type": "execute_result"
    }
   ],
   "source": [
    "sp_dge_or"
   ]
  },
  {
   "cell_type": "code",
   "execution_count": null,
   "metadata": {},
   "outputs": [],
   "source": []
  },
  {
   "cell_type": "code",
   "execution_count": 33,
   "metadata": {},
   "outputs": [],
   "source": [
    "sc.pp.calculate_qc_metrics(sp_dge_or, inplace=True)"
   ]
  },
  {
   "cell_type": "code",
   "execution_count": 34,
   "metadata": {},
   "outputs": [
    {
     "data": {
      "image/png": "[encoded data removed]",
      "text/plain": [
       "<Figure size 432x288 with 1 Axes>"
      ]
     },
     "metadata": {
      "needs_background": "light"
     },
     "output_type": "display_data"
    }
   ],
   "source": [
    "plt.hist(sp_dge_or.obs['total_counts'], 5000, histtype='bar', rwidth=0.5, align='left')\n",
    "plt.xscale('log')"
   ]
  },
  {
   "cell_type": "code",
   "execution_count": null,
   "metadata": {},
   "outputs": [],
   "source": []
  },
  {
   "cell_type": "code",
   "execution_count": null,
   "metadata": {},
   "outputs": [],
   "source": [
    "k_t.obs['no_umis'] = np.sum(k_t.X, axis=1)\n",
    "no_umis = k_t.obs['no_umis']"
   ]
  },
  {
   "cell_type": "code",
   "execution_count": null,
   "metadata": {},
   "outputs": [],
   "source": [
    "no_umis_log10 = []\n",
    "for x in no_umis:\n",
    "    if x != 0:\n",
    "        no_umis_log10.append(log(x,10))\n",
    "    else:\n",
    "        no_umis_log10.append(x)"
   ]
  },
  {
   "cell_type": "code",
   "execution_count": null,
   "metadata": {},
   "outputs": [],
   "source": [
    "plt.hist(no_umis, histtype='bar', rwidth=0.5, align='left')\n",
    "plt.yscale('log')"
   ]
  },
  {
   "cell_type": "code",
   "execution_count": null,
   "metadata": {},
   "outputs": [],
   "source": [
    "plt.hist(no_umis_log10, histtype='bar', rwidth=0.5, align='left')\n",
    "plt.yscale('log')"
   ]
  },
  {
   "cell_type": "code",
   "execution_count": null,
   "metadata": {},
   "outputs": [],
   "source": [
    "k_t.obs['no_umis'].sum()"
   ]
  }
 ],
 "metadata": {
  "kernelspec": {
   "display_name": "Python 3",
   "language": "python",
   "name": "python3"
  },
  "language_info": {
   "codemirror_mode": {
    "name": "ipython",
    "version": 3
   },
   "file_extension": ".py",
   "mimetype": "text/x-python",
   "name": "python",
   "nbconvert_exporter": "python",
   "pygments_lexer": "ipython3",
   "version": "3.7.5"
  }
 },
 "nbformat": 4,
 "nbformat_minor": 2
}
