{
 "cells": [
  {
   "cell_type": "code",
   "execution_count": 12,
   "metadata": {},
   "outputs": [],
   "source": [
    "import anndata\n",
    "import scanpy as sc\n",
    "import numpy as np"
   ]
  },
  {
   "cell_type": "code",
   "execution_count": null,
   "metadata": {},
   "outputs": [],
   "source": [
    "input_file = \"/Users/manuel/Desktop/dge_matrix_umid1.txt\""
   ]
  },
  {
   "cell_type": "code",
   "execution_count": 17,
   "metadata": {},
   "outputs": [],
   "source": [
    "output_file = \"/Volumes/win_mac/dge_matrix_umid1.h5ad\""
   ]
  },
  {
   "cell_type": "code",
   "execution_count": 3,
   "metadata": {},
   "outputs": [],
   "source": [
    "k = sc.read_text(input_file)"
   ]
  },
  {
   "cell_type": "code",
   "execution_count": 13,
   "metadata": {},
   "outputs": [],
   "source": [
    "n_obs = len(k.var)\n",
    "n_var = len(k.obs)\n",
    "k_t = anndata.AnnData(X=None, shape=(n_obs, n_var))"
   ]
  },
  {
   "cell_type": "code",
   "execution_count": 15,
   "metadata": {},
   "outputs": [],
   "source": [
    "k_t.X = k.X.transpose()"
   ]
  },
  {
   "cell_type": "code",
   "execution_count": 16,
   "metadata": {},
   "outputs": [],
   "source": [
    "k_t.obs = k.var\n",
    "k_t.var = k.obs"
   ]
  },
  {
   "cell_type": "code",
   "execution_count": 18,
   "metadata": {},
   "outputs": [],
   "source": [
    "k_t.write(output_file, compression='gzip')"
   ]
  },
  {
   "cell_type": "code",
   "execution_count": 23,
   "metadata": {},
   "outputs": [],
   "source": [
    "k_new_2 = sc.read(output_file)"
   ]
  },
  {
   "cell_type": "code",
   "execution_count": 27,
   "metadata": {
    "collapsed": true
   },
   "outputs": [
    {
     "data": {
      "text/html": [
       "<div>\n",
       "<style scoped>\n",
       "    .dataframe tbody tr th:only-of-type {\n",
       "        vertical-align: middle;\n",
       "    }\n",
       "\n",
       "    .dataframe tbody tr th {\n",
       "        vertical-align: top;\n",
       "    }\n",
       "\n",
       "    .dataframe thead th {\n",
       "        text-align: right;\n",
       "    }\n",
       "</style>\n",
       "<table border=\"1\" class=\"dataframe\">\n",
       "  <thead>\n",
       "    <tr style=\"text-align: right;\">\n",
       "      <th></th>\n",
       "    </tr>\n",
       "    <tr>\n",
       "      <th>index</th>\n",
       "    </tr>\n",
       "  </thead>\n",
       "  <tbody>\n",
       "    <tr>\n",
       "      <th>Arhgap26</th>\n",
       "    </tr>\n",
       "    <tr>\n",
       "      <th>Creb3l1</th>\n",
       "    </tr>\n",
       "    <tr>\n",
       "      <th>Osbpl6</th>\n",
       "    </tr>\n",
       "    <tr>\n",
       "      <th>1110051M20Rik</th>\n",
       "    </tr>\n",
       "    <tr>\n",
       "      <th>Nck2</th>\n",
       "    </tr>\n",
       "    <tr>\n",
       "      <th>...</th>\n",
       "    </tr>\n",
       "    <tr>\n",
       "      <th>Prl7a2</th>\n",
       "    </tr>\n",
       "    <tr>\n",
       "      <th>Gm22421</th>\n",
       "    </tr>\n",
       "    <tr>\n",
       "      <th>Gm13109</th>\n",
       "    </tr>\n",
       "    <tr>\n",
       "      <th>Gm25887</th>\n",
       "    </tr>\n",
       "    <tr>\n",
       "      <th>Olfr1023</th>\n",
       "    </tr>\n",
       "  </tbody>\n",
       "</table>\n",
       "<p>23004 rows × 0 columns</p>\n",
       "</div>"
      ],
      "text/plain": [
       "Empty DataFrame\n",
       "Columns: []\n",
       "Index: [Arhgap26, Creb3l1, Osbpl6, 1110051M20Rik, Nck2, Zcchc16, Limch1, Cdh19, Nrxn3, Myt1l, Rnf216, Kcnc2, Mef2c, Tiam2, Slc35f1, Meg3, Stx1b, Nbea, Ctnnd2, Kdm5b, Erc2, Dlg2, Ap3d1, Gap43, Ryr2, Tom1l2, Ppm1e, Ptprt, Mpnd, St8sia1, Gabra5, Vgll4, Gnb1, Sgcz, Klc1, Ppp2r3a, Whsc1l1, Ccser1, Lama2, Myh14, D14Abb1e, Spred2, Nsg1, Sf3b1, Enox1, Man2a1, Camta1, Lrrtm4, Efna5, Tmem216, Robo1, Extl3, Casp8ap2, Wdr37, Rbfox2, Gpm6b, Erbb4, Malat1, Pde4d, Tgif2, Atrx, Cadm2, Aph1a, Ankhd1, Ubash3b, Galntl6, Sez6l, Lrp1b, Dis3l2, Srrm1, Grlf1, Fam13c, Limk2, Celf4, AI854517, Asic2, Tmem65, Usp15, Ncam2, Trpm3, Ntm, Cpne4, Cadps, Grm7, Mcf2l, Pitpnm2, Alg13, Rbm26, Rian, Dlg5, Me3, Pcm1, Dclk1, Rgs5, Pde10a, Mgat4c, Kat6b, Dennd6a, Mical3, Ncapd2, ...]\n",
       "\n",
       "[23004 rows x 0 columns]"
      ]
     },
     "execution_count": 27,
     "metadata": {},
     "output_type": "execute_result"
    }
   ],
   "source": [
    "k_new_2.var"
   ]
  },
  {
   "cell_type": "code",
   "execution_count": null,
   "metadata": {},
   "outputs": [],
   "source": []
  },
  {
   "cell_type": "code",
   "execution_count": 28,
   "metadata": {},
   "outputs": [],
   "source": [
    "input_file = \"/Users/manuel/Desktop/bowtie_strategy/complete_dge_matrix/expression.txt\"\n",
    "output_file = \"/Users/manuel/Desktop/bowtie_strategy/complete_dge_matrix/expression.h5ad\"\n",
    "k = sc.read_text(input_file)\n",
    "n_obs = len(k.var)\n",
    "n_var = len(k.obs)\n",
    "k_t = anndata.AnnData(X=None, shape=(n_obs, n_var))\n",
    "k_t.X = k.X.transpose()\n",
    "k_t.obs = k.var\n",
    "k_t.var = k.obs\n",
    "k_t.write(output_file, compression='gzip')\n",
    "k_new = sc.read(output_file)"
   ]
  }
 ],
 "metadata": {
  "kernelspec": {
   "display_name": "Python 3",
   "language": "python",
   "name": "python3"
  },
  "language_info": {
   "codemirror_mode": {
    "name": "ipython",
    "version": 3
   },
   "file_extension": ".py",
   "mimetype": "text/x-python",
   "name": "python",
   "nbconvert_exporter": "python",
   "pygments_lexer": "ipython3",
   "version": "3.7.5"
  }
 },
 "nbformat": 4,
 "nbformat_minor": 2
}
